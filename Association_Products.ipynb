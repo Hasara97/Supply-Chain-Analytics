{
  "nbformat": 4,
  "nbformat_minor": 0,
  "metadata": {
    "colab": {
      "name": "Association - Products.ipynb",
      "provenance": []
    },
    "kernelspec": {
      "name": "python3",
      "display_name": "Python 3"
    },
    "language_info": {
      "name": "python"
    }
  },
  "cells": [
    {
      "cell_type": "markdown",
      "metadata": {
        "id": "qVGV-jzBybFh"
      },
      "source": [
        "# **Setting up Spark**"
      ]
    },
    {
      "cell_type": "code",
      "metadata": {
        "colab": {
          "base_uri": "https://localhost:8080/"
        },
        "id": "8H2zpprQNRMh",
        "outputId": "33ca87bf-f529-464c-ecaa-d017b54e3d6b"
      },
      "source": [
        "# Install PySpark library on google colab\n",
        "!pip install pyspark"
      ],
      "execution_count": 113,
      "outputs": [
        {
          "output_type": "stream",
          "text": [
            "Requirement already satisfied: pyspark in /usr/local/lib/python3.7/dist-packages (3.1.2)\n",
            "Requirement already satisfied: py4j==0.10.9 in /usr/local/lib/python3.7/dist-packages (from pyspark) (0.10.9)\n"
          ],
          "name": "stdout"
        }
      ]
    },
    {
      "cell_type": "code",
      "metadata": {
        "colab": {
          "base_uri": "https://localhost:8080/",
          "height": 216
        },
        "id": "nlRoZAN3NGcM",
        "outputId": "1f6aa1ed-9df8-44eb-bc12-c6558f5c5ed2"
      },
      "source": [
        "# Check pyspark installation by building spark session\n",
        "from pyspark.sql import SparkSession\n",
        "\n",
        "spark = SparkSession.builder.master(\"local\").appName(\"Colab\")\\\n",
        "        .config('spark.ui.port', '4050').getOrCreate()\n",
        "\n",
        "spark"
      ],
      "execution_count": 114,
      "outputs": [
        {
          "output_type": "execute_result",
          "data": {
            "text/html": [
              "\n",
              "            <div>\n",
              "                <p><b>SparkSession - in-memory</b></p>\n",
              "                \n",
              "        <div>\n",
              "            <p><b>SparkContext</b></p>\n",
              "\n",
              "            <p><a href=\"http://cc44723466dc:4050\">Spark UI</a></p>\n",
              "\n",
              "            <dl>\n",
              "              <dt>Version</dt>\n",
              "                <dd><code>v3.1.2</code></dd>\n",
              "              <dt>Master</dt>\n",
              "                <dd><code>local</code></dd>\n",
              "              <dt>AppName</dt>\n",
              "                <dd><code>Colab</code></dd>\n",
              "            </dl>\n",
              "        </div>\n",
              "        \n",
              "            </div>\n",
              "        "
            ],
            "text/plain": [
              "<pyspark.sql.session.SparkSession at 0x7fdb241e3110>"
            ]
          },
          "metadata": {
            "tags": []
          },
          "execution_count": 114
        }
      ]
    },
    {
      "cell_type": "code",
      "metadata": {
        "colab": {
          "base_uri": "https://localhost:8080/"
        },
        "id": "U75KiEc3HBf1",
        "outputId": "6bd25295-b2b8-4cf9-a2c0-50d2cf1a6518"
      },
      "source": [
        "from google.colab import drive\n",
        "drive.mount(\"/content/gdrive\")"
      ],
      "execution_count": 115,
      "outputs": [
        {
          "output_type": "stream",
          "text": [
            "Drive already mounted at /content/gdrive; to attempt to forcibly remount, call drive.mount(\"/content/gdrive\", force_remount=True).\n"
          ],
          "name": "stdout"
        }
      ]
    },
    {
      "cell_type": "code",
      "metadata": {
        "colab": {
          "base_uri": "https://localhost:8080/",
          "height": 360
        },
        "id": "09Gdc8N1KNsv",
        "outputId": "1126cec0-1eac-4c60-8819-dc34aab12e34"
      },
      "source": [
        "import pandas as pd\n",
        "\n",
        "data = pd.read_csv(\"/content/gdrive/My Drive/Colab Notebooks/data/PreprocessedDataCoSupplyChainDataset.csv\", encoding='latin1')\n",
        "data.head()"
      ],
      "execution_count": 116,
      "outputs": [
        {
          "output_type": "execute_result",
          "data": {
            "text/html": [
              "<div>\n",
              "<style scoped>\n",
              "    .dataframe tbody tr th:only-of-type {\n",
              "        vertical-align: middle;\n",
              "    }\n",
              "\n",
              "    .dataframe tbody tr th {\n",
              "        vertical-align: top;\n",
              "    }\n",
              "\n",
              "    .dataframe thead th {\n",
              "        text-align: right;\n",
              "    }\n",
              "</style>\n",
              "<table border=\"1\" class=\"dataframe\">\n",
              "  <thead>\n",
              "    <tr style=\"text-align: right;\">\n",
              "      <th></th>\n",
              "      <th>Unnamed: 0</th>\n",
              "      <th>Type</th>\n",
              "      <th>Days for shipping (real)</th>\n",
              "      <th>Days for shipment (scheduled)</th>\n",
              "      <th>Benefit per order</th>\n",
              "      <th>Sales per customer</th>\n",
              "      <th>Delivery Status</th>\n",
              "      <th>Late_delivery_risk</th>\n",
              "      <th>Category Id</th>\n",
              "      <th>Category Name</th>\n",
              "      <th>Customer City</th>\n",
              "      <th>Customer Country</th>\n",
              "      <th>Customer Id</th>\n",
              "      <th>Customer Segment</th>\n",
              "      <th>Customer State</th>\n",
              "      <th>Customer Zipcode</th>\n",
              "      <th>Department Id</th>\n",
              "      <th>Department Name</th>\n",
              "      <th>Market</th>\n",
              "      <th>Order City</th>\n",
              "      <th>Order Country</th>\n",
              "      <th>Order Customer Id</th>\n",
              "      <th>order date (DateOrders)</th>\n",
              "      <th>Order Id</th>\n",
              "      <th>Order Item Cardprod Id</th>\n",
              "      <th>Order Item Discount</th>\n",
              "      <th>Order Item Discount Rate</th>\n",
              "      <th>Order Item Id</th>\n",
              "      <th>Order Item Product Price</th>\n",
              "      <th>Order Item Profit Ratio</th>\n",
              "      <th>Order Item Quantity</th>\n",
              "      <th>Sales</th>\n",
              "      <th>Order Item Total</th>\n",
              "      <th>Order Profit Per Order</th>\n",
              "      <th>Order Region</th>\n",
              "      <th>Order State</th>\n",
              "      <th>Order Status</th>\n",
              "      <th>Product Card Id</th>\n",
              "      <th>Product Category Id</th>\n",
              "      <th>Product Name</th>\n",
              "      <th>Product Price</th>\n",
              "      <th>Shipping Mode</th>\n",
              "      <th>Customer Name</th>\n",
              "    </tr>\n",
              "  </thead>\n",
              "  <tbody>\n",
              "    <tr>\n",
              "      <th>0</th>\n",
              "      <td>0</td>\n",
              "      <td>DEBIT</td>\n",
              "      <td>3</td>\n",
              "      <td>4</td>\n",
              "      <td>91.250000</td>\n",
              "      <td>314.640015</td>\n",
              "      <td>Advance shipping</td>\n",
              "      <td>0</td>\n",
              "      <td>73</td>\n",
              "      <td>Sporting Goods</td>\n",
              "      <td>Caguas</td>\n",
              "      <td>Puerto Rico</td>\n",
              "      <td>20755</td>\n",
              "      <td>Consumer</td>\n",
              "      <td>PR</td>\n",
              "      <td>725.0</td>\n",
              "      <td>2</td>\n",
              "      <td>Fitness</td>\n",
              "      <td>Pacific Asia</td>\n",
              "      <td>Bekasi</td>\n",
              "      <td>Indonesia</td>\n",
              "      <td>20755</td>\n",
              "      <td>1/31/2018 22:56</td>\n",
              "      <td>77202</td>\n",
              "      <td>1360</td>\n",
              "      <td>13.110000</td>\n",
              "      <td>0.04</td>\n",
              "      <td>180517</td>\n",
              "      <td>327.75</td>\n",
              "      <td>0.29</td>\n",
              "      <td>1</td>\n",
              "      <td>327.75</td>\n",
              "      <td>314.640015</td>\n",
              "      <td>91.250000</td>\n",
              "      <td>Southeast Asia</td>\n",
              "      <td>Java Occidental</td>\n",
              "      <td>COMPLETE</td>\n",
              "      <td>1360</td>\n",
              "      <td>73</td>\n",
              "      <td>Smart watch</td>\n",
              "      <td>327.75</td>\n",
              "      <td>Standard Class</td>\n",
              "      <td>CallyHolloway</td>\n",
              "    </tr>\n",
              "    <tr>\n",
              "      <th>1</th>\n",
              "      <td>1</td>\n",
              "      <td>TRANSFER</td>\n",
              "      <td>5</td>\n",
              "      <td>4</td>\n",
              "      <td>-249.089996</td>\n",
              "      <td>311.359985</td>\n",
              "      <td>Late delivery</td>\n",
              "      <td>1</td>\n",
              "      <td>73</td>\n",
              "      <td>Sporting Goods</td>\n",
              "      <td>Caguas</td>\n",
              "      <td>Puerto Rico</td>\n",
              "      <td>19492</td>\n",
              "      <td>Consumer</td>\n",
              "      <td>PR</td>\n",
              "      <td>725.0</td>\n",
              "      <td>2</td>\n",
              "      <td>Fitness</td>\n",
              "      <td>Pacific Asia</td>\n",
              "      <td>Bikaner</td>\n",
              "      <td>India</td>\n",
              "      <td>19492</td>\n",
              "      <td>1/13/2018 12:27</td>\n",
              "      <td>75939</td>\n",
              "      <td>1360</td>\n",
              "      <td>16.389999</td>\n",
              "      <td>0.05</td>\n",
              "      <td>179254</td>\n",
              "      <td>327.75</td>\n",
              "      <td>-0.80</td>\n",
              "      <td>1</td>\n",
              "      <td>327.75</td>\n",
              "      <td>311.359985</td>\n",
              "      <td>-249.089996</td>\n",
              "      <td>South Asia</td>\n",
              "      <td>RajastÃ¡n</td>\n",
              "      <td>PENDING</td>\n",
              "      <td>1360</td>\n",
              "      <td>73</td>\n",
              "      <td>Smart watch</td>\n",
              "      <td>327.75</td>\n",
              "      <td>Standard Class</td>\n",
              "      <td>IreneLuna</td>\n",
              "    </tr>\n",
              "    <tr>\n",
              "      <th>2</th>\n",
              "      <td>2</td>\n",
              "      <td>CASH</td>\n",
              "      <td>4</td>\n",
              "      <td>4</td>\n",
              "      <td>-247.779999</td>\n",
              "      <td>309.720001</td>\n",
              "      <td>Shipping on time</td>\n",
              "      <td>0</td>\n",
              "      <td>73</td>\n",
              "      <td>Sporting Goods</td>\n",
              "      <td>San Jose</td>\n",
              "      <td>EE. UU.</td>\n",
              "      <td>19491</td>\n",
              "      <td>Consumer</td>\n",
              "      <td>CA</td>\n",
              "      <td>95125.0</td>\n",
              "      <td>2</td>\n",
              "      <td>Fitness</td>\n",
              "      <td>Pacific Asia</td>\n",
              "      <td>Bikaner</td>\n",
              "      <td>India</td>\n",
              "      <td>19491</td>\n",
              "      <td>1/13/2018 12:06</td>\n",
              "      <td>75938</td>\n",
              "      <td>1360</td>\n",
              "      <td>18.030001</td>\n",
              "      <td>0.06</td>\n",
              "      <td>179253</td>\n",
              "      <td>327.75</td>\n",
              "      <td>-0.80</td>\n",
              "      <td>1</td>\n",
              "      <td>327.75</td>\n",
              "      <td>309.720001</td>\n",
              "      <td>-247.779999</td>\n",
              "      <td>South Asia</td>\n",
              "      <td>RajastÃ¡n</td>\n",
              "      <td>CLOSED</td>\n",
              "      <td>1360</td>\n",
              "      <td>73</td>\n",
              "      <td>Smart watch</td>\n",
              "      <td>327.75</td>\n",
              "      <td>Standard Class</td>\n",
              "      <td>GillianMaldonado</td>\n",
              "    </tr>\n",
              "    <tr>\n",
              "      <th>3</th>\n",
              "      <td>3</td>\n",
              "      <td>DEBIT</td>\n",
              "      <td>3</td>\n",
              "      <td>4</td>\n",
              "      <td>22.860001</td>\n",
              "      <td>304.809998</td>\n",
              "      <td>Advance shipping</td>\n",
              "      <td>0</td>\n",
              "      <td>73</td>\n",
              "      <td>Sporting Goods</td>\n",
              "      <td>Los Angeles</td>\n",
              "      <td>EE. UU.</td>\n",
              "      <td>19490</td>\n",
              "      <td>Home Office</td>\n",
              "      <td>CA</td>\n",
              "      <td>90027.0</td>\n",
              "      <td>2</td>\n",
              "      <td>Fitness</td>\n",
              "      <td>Pacific Asia</td>\n",
              "      <td>Townsville</td>\n",
              "      <td>Australia</td>\n",
              "      <td>19490</td>\n",
              "      <td>1/13/2018 11:45</td>\n",
              "      <td>75937</td>\n",
              "      <td>1360</td>\n",
              "      <td>22.940001</td>\n",
              "      <td>0.07</td>\n",
              "      <td>179252</td>\n",
              "      <td>327.75</td>\n",
              "      <td>0.08</td>\n",
              "      <td>1</td>\n",
              "      <td>327.75</td>\n",
              "      <td>304.809998</td>\n",
              "      <td>22.860001</td>\n",
              "      <td>Oceania</td>\n",
              "      <td>Queensland</td>\n",
              "      <td>COMPLETE</td>\n",
              "      <td>1360</td>\n",
              "      <td>73</td>\n",
              "      <td>Smart watch</td>\n",
              "      <td>327.75</td>\n",
              "      <td>Standard Class</td>\n",
              "      <td>TanaTate</td>\n",
              "    </tr>\n",
              "    <tr>\n",
              "      <th>4</th>\n",
              "      <td>4</td>\n",
              "      <td>PAYMENT</td>\n",
              "      <td>2</td>\n",
              "      <td>4</td>\n",
              "      <td>134.210007</td>\n",
              "      <td>298.250000</td>\n",
              "      <td>Advance shipping</td>\n",
              "      <td>0</td>\n",
              "      <td>73</td>\n",
              "      <td>Sporting Goods</td>\n",
              "      <td>Caguas</td>\n",
              "      <td>Puerto Rico</td>\n",
              "      <td>19489</td>\n",
              "      <td>Corporate</td>\n",
              "      <td>PR</td>\n",
              "      <td>725.0</td>\n",
              "      <td>2</td>\n",
              "      <td>Fitness</td>\n",
              "      <td>Pacific Asia</td>\n",
              "      <td>Townsville</td>\n",
              "      <td>Australia</td>\n",
              "      <td>19489</td>\n",
              "      <td>1/13/2018 11:24</td>\n",
              "      <td>75936</td>\n",
              "      <td>1360</td>\n",
              "      <td>29.500000</td>\n",
              "      <td>0.09</td>\n",
              "      <td>179251</td>\n",
              "      <td>327.75</td>\n",
              "      <td>0.45</td>\n",
              "      <td>1</td>\n",
              "      <td>327.75</td>\n",
              "      <td>298.250000</td>\n",
              "      <td>134.210007</td>\n",
              "      <td>Oceania</td>\n",
              "      <td>Queensland</td>\n",
              "      <td>PENDING_PAYMENT</td>\n",
              "      <td>1360</td>\n",
              "      <td>73</td>\n",
              "      <td>Smart watch</td>\n",
              "      <td>327.75</td>\n",
              "      <td>Standard Class</td>\n",
              "      <td>OrliHendricks</td>\n",
              "    </tr>\n",
              "  </tbody>\n",
              "</table>\n",
              "</div>"
            ],
            "text/plain": [
              "   Unnamed: 0      Type  ...   Shipping Mode     Customer Name\n",
              "0           0     DEBIT  ...  Standard Class     CallyHolloway\n",
              "1           1  TRANSFER  ...  Standard Class         IreneLuna\n",
              "2           2      CASH  ...  Standard Class  GillianMaldonado\n",
              "3           3     DEBIT  ...  Standard Class          TanaTate\n",
              "4           4   PAYMENT  ...  Standard Class     OrliHendricks\n",
              "\n",
              "[5 rows x 43 columns]"
            ]
          },
          "metadata": {
            "tags": []
          },
          "execution_count": 116
        }
      ]
    },
    {
      "cell_type": "code",
      "metadata": {
        "colab": {
          "base_uri": "https://localhost:8080/"
        },
        "id": "vW_Z6GrRKcmg",
        "outputId": "cf72fdd4-89cf-4a04-d987-6027edb98783"
      },
      "source": [
        "data['Customer Name'].unique()"
      ],
      "execution_count": 117,
      "outputs": [
        {
          "output_type": "execute_result",
          "data": {
            "text/plain": [
              "array(['CallyHolloway', 'IreneLuna', 'GillianMaldonado', ...,\n",
              "       'AnikaDavenport', 'YuriSmith', 'HyacinthWitt'], dtype=object)"
            ]
          },
          "metadata": {
            "tags": []
          },
          "execution_count": 117
        }
      ]
    },
    {
      "cell_type": "code",
      "metadata": {
        "colab": {
          "base_uri": "https://localhost:8080/",
          "height": 204
        },
        "id": "R7w68GIbMFWf",
        "outputId": "587dba0f-9285-4553-b5cc-2229161ce827"
      },
      "source": [
        "df = data.copy()\n",
        "df = df[['Customer Name','Product Name']]\n",
        "df = df.drop_duplicates(['Customer Name', 'Product Name'])\n",
        "df = df.groupby('Customer Name')['Product Name'].apply(list)\\\n",
        ".reset_index(name=\"Products\")\n",
        "\n",
        "# df.rename( columns={1 :'Products'}, inplace=True )\n",
        "df.head()"
      ],
      "execution_count": 118,
      "outputs": [
        {
          "output_type": "execute_result",
          "data": {
            "text/html": [
              "<div>\n",
              "<style scoped>\n",
              "    .dataframe tbody tr th:only-of-type {\n",
              "        vertical-align: middle;\n",
              "    }\n",
              "\n",
              "    .dataframe tbody tr th {\n",
              "        vertical-align: top;\n",
              "    }\n",
              "\n",
              "    .dataframe thead th {\n",
              "        text-align: right;\n",
              "    }\n",
              "</style>\n",
              "<table border=\"1\" class=\"dataframe\">\n",
              "  <thead>\n",
              "    <tr style=\"text-align: right;\">\n",
              "      <th></th>\n",
              "      <th>Customer Name</th>\n",
              "      <th>Products</th>\n",
              "    </tr>\n",
              "  </thead>\n",
              "  <tbody>\n",
              "    <tr>\n",
              "      <th>0</th>\n",
              "      <td>AaronBerger</td>\n",
              "      <td>[Under Armour Girls' Toddler Spine Surge Runni...</td>\n",
              "    </tr>\n",
              "    <tr>\n",
              "      <th>1</th>\n",
              "      <td>AaronBoyle</td>\n",
              "      <td>[Diamondback Women's Serene Classic Comfort Bi...</td>\n",
              "    </tr>\n",
              "    <tr>\n",
              "      <th>2</th>\n",
              "      <td>AaronBush</td>\n",
              "      <td>[Nike Men's CJ Elite 2 TD Football Cleat, Unde...</td>\n",
              "    </tr>\n",
              "    <tr>\n",
              "      <th>3</th>\n",
              "      <td>AaronCalhoun</td>\n",
              "      <td>[Perfect Fitness Perfect Rip Deck, Pelican Sun...</td>\n",
              "    </tr>\n",
              "    <tr>\n",
              "      <th>4</th>\n",
              "      <td>AaronCarr</td>\n",
              "      <td>[Pelican Sunstream 100 Kayak, Nike Men's CJ El...</td>\n",
              "    </tr>\n",
              "  </tbody>\n",
              "</table>\n",
              "</div>"
            ],
            "text/plain": [
              "  Customer Name                                           Products\n",
              "0   AaronBerger  [Under Armour Girls' Toddler Spine Surge Runni...\n",
              "1    AaronBoyle  [Diamondback Women's Serene Classic Comfort Bi...\n",
              "2     AaronBush  [Nike Men's CJ Elite 2 TD Football Cleat, Unde...\n",
              "3  AaronCalhoun  [Perfect Fitness Perfect Rip Deck, Pelican Sun...\n",
              "4     AaronCarr  [Pelican Sunstream 100 Kayak, Nike Men's CJ El..."
            ]
          },
          "metadata": {
            "tags": []
          },
          "execution_count": 118
        }
      ]
    },
    {
      "cell_type": "markdown",
      "metadata": {
        "id": "FPgkiIUCyTv3"
      },
      "source": [
        "# **Convert to Spark Dataframe**"
      ]
    },
    {
      "cell_type": "code",
      "metadata": {
        "id": "uI_XA6zekI67"
      },
      "source": [
        "from pyspark.ml.fpm import FPGrowth\n",
        "from pyspark.sql import SQLContext\n",
        "\n",
        "# Convert the pandas dataframe into a spark dataframe\n",
        "# sc = SparkContext.getOrCreate()\n",
        "sqlContext = SQLContext(spark)\n",
        "\n",
        "spark_frame = sqlContext.createDataFrame(df)"
      ],
      "execution_count": 119,
      "outputs": []
    },
    {
      "cell_type": "code",
      "metadata": {
        "colab": {
          "base_uri": "https://localhost:8080/"
        },
        "id": "aahNxc4Sy13k",
        "outputId": "aafff794-afdd-4700-acb5-1f7f8d6daa21"
      },
      "source": [
        "spark_frame"
      ],
      "execution_count": 120,
      "outputs": [
        {
          "output_type": "execute_result",
          "data": {
            "text/plain": [
              "DataFrame[Customer Name: string, Products: array<string>]"
            ]
          },
          "metadata": {
            "tags": []
          },
          "execution_count": 120
        }
      ]
    },
    {
      "cell_type": "markdown",
      "metadata": {
        "id": "ZerIyRcg2PK5"
      },
      "source": [
        "# **Applying the FP algorithm**"
      ]
    },
    {
      "cell_type": "code",
      "metadata": {
        "id": "4h0EP2F717PG"
      },
      "source": [
        "# Create fpGrowth object by instantiating the FPGrowth constructor with the necessary parameters\n",
        "fpGrowth = FPGrowth(itemsCol=\"Products\",minSupport=0.015, minConfidence=0.35)\n",
        "\n",
        "# Fit the dataframe into the fpGrowth object to get the model prepared\n",
        "model = fpGrowth.fit(spark_frame)"
      ],
      "execution_count": 121,
      "outputs": []
    },
    {
      "cell_type": "code",
      "metadata": {
        "colab": {
          "base_uri": "https://localhost:8080/"
        },
        "id": "SKy8T3fY2f2_",
        "outputId": "15527865-70f8-45f3-8d0e-a826eaf3a8bb"
      },
      "source": [
        "# Display the frequently occuring items\n",
        "model.freqItemsets.sort('freq',ascending=False).show(truncate=False)"
      ],
      "execution_count": 122,
      "outputs": [
        {
          "output_type": "stream",
          "text": [
            "+------------------------------------------------------------------------------------+----+\n",
            "|items                                                                               |freq|\n",
            "+------------------------------------------------------------------------------------+----+\n",
            "|[Perfect Fitness Perfect Rip Deck]                                                  |4851|\n",
            "|[Nike Men's CJ Elite 2 TD Football Cleat]                                           |4711|\n",
            "|[Nike Men's Dri-FIT Victory Golf Polo]                                              |4603|\n",
            "|[O'Brien Men's Neoprene Life Vest]                                                  |4505|\n",
            "|[Field & Stream Sportsman 16 Gun Fire Safe]                                         |4304|\n",
            "|[Nike Men's CJ Elite 2 TD Football Cleat, Perfect Fitness Perfect Rip Deck]         |4135|\n",
            "|[Pelican Sunstream 100 Kayak]                                                       |4108|\n",
            "|[Nike Men's Dri-FIT Victory Golf Polo, Perfect Fitness Perfect Rip Deck]            |4030|\n",
            "|[O'Brien Men's Neoprene Life Vest, Perfect Fitness Perfect Rip Deck]                |3963|\n",
            "|[Diamondback Women's Serene Classic Comfort Bi]                                     |3937|\n",
            "|[Nike Men's Dri-FIT Victory Golf Polo, Nike Men's CJ Elite 2 TD Football Cleat]     |3914|\n",
            "|[O'Brien Men's Neoprene Life Vest, Nike Men's CJ Elite 2 TD Football Cleat]         |3832|\n",
            "|[Nike Men's Free 5.0+ Running Shoe]                                                 |3803|\n",
            "|[Field & Stream Sportsman 16 Gun Fire Safe, Perfect Fitness Perfect Rip Deck]       |3774|\n",
            "|[O'Brien Men's Neoprene Life Vest, Nike Men's Dri-FIT Victory Golf Polo]            |3766|\n",
            "|[Field & Stream Sportsman 16 Gun Fire Safe, Nike Men's CJ Elite 2 TD Football Cleat]|3691|\n",
            "|[Pelican Sunstream 100 Kayak, Perfect Fitness Perfect Rip Deck]                     |3642|\n",
            "|[Field & Stream Sportsman 16 Gun Fire Safe, Nike Men's Dri-FIT Victory Golf Polo]   |3619|\n",
            "|[Field & Stream Sportsman 16 Gun Fire Safe, O'Brien Men's Neoprene Life Vest]       |3568|\n",
            "|[Under Armour Girls' Toddler Spine Surge Runni]                                     |3563|\n",
            "+------------------------------------------------------------------------------------+----+\n",
            "only showing top 20 rows\n",
            "\n"
          ],
          "name": "stdout"
        }
      ]
    },
    {
      "cell_type": "code",
      "metadata": {
        "colab": {
          "base_uri": "https://localhost:8080/"
        },
        "id": "_SBFfNvBBpu5",
        "outputId": "0a7f84f4-4003-4bfd-cbf0-fe0088cd795f"
      },
      "source": [
        "from pyspark.sql.functions import col,round\n",
        "\n",
        "# Display the generated association rules\n",
        "model.associationRules\\\n",
        ".withColumn(\"confidence\", round(col(\"confidence\"), 3))\\\n",
        ".withColumn(\"lift\", round(col(\"lift\"), 3))\\\n",
        ".withColumn(\"support\", round(col(\"support\"),10))\\\n",
        ".sort('confidence',ascending=False)\\\n",
        ".show(truncate=True)"
      ],
      "execution_count": 123,
      "outputs": [
        {
          "output_type": "stream",
          "text": [
            "+--------------------+--------------------+----------+-----+------------+\n",
            "|          antecedent|          consequent|confidence| lift|     support|\n",
            "+--------------------+--------------------+----------+-----+------------+\n",
            "|[Team Golf St. Lo...|[Nike Men's CJ El...|     0.982|2.924|0.0151785078|\n",
            "|[Team Golf St. Lo...|[Nike Men's CJ El...|     0.978|2.913|0.0158198532|\n",
            "|[Titleist Pro V1 ...|[Perfect Fitness ...|     0.977|2.827|0.0153922896|\n",
            "|[Team Golf St. Lo...|[Nike Men's CJ El...|     0.977|2.911|0.0152497684|\n",
            "|[Titleist Pro V1 ...|[Nike Men's CJ El...|     0.977|2.911|0.0153922896|\n",
            "|[ENO Atlas Hammoc...|[Perfect Fitness ...|     0.977|2.826|0.0150359866|\n",
            "|[ENO Atlas Hammoc...|[Perfect Fitness ...|     0.974|2.817|0.0158198532|\n",
            "|[Titleist Pro V1x...|[Perfect Fitness ...|     0.973|2.814| 0.015321029|\n",
            "|[Team Golf St. Lo...|[Nike Men's CJ El...|     0.973|2.898| 0.015321029|\n",
            "|[Titleist Pro V1 ...|[Nike Men's Dri-F...|     0.973|2.966|0.0153922896|\n",
            "|[Team Golf St. Lo...|[Nike Men's CJ El...|     0.972|2.896|0.0150359866|\n",
            "|[Bridgestone e6 S...|[Nike Men's Dri-F...|     0.972|2.965|0.0151072472|\n",
            "|[Glove It Women's...|[O'Brien Men's Ne...|     0.972|3.029|0.0150359866|\n",
            "|[Under Armour Gir...|[Perfect Fitness ...|     0.971| 2.81|0.0893607924|\n",
            "|[Team Golf St. Lo...|[Nike Men's CJ El...|     0.971|2.891|0.0164611986|\n",
            "|[Under Armour Gir...|[Perfect Fitness ...|     0.969|2.804|0.0939927314|\n",
            "|[Titleist Pro V1 ...|[Nike Men's CJ El...|     0.969|2.888|0.0158198532|\n",
            "|[Titleist Pro V1 ...|[Nike Men's CJ El...|     0.969|2.887|0.0157485926|\n",
            "|[Titleist Pro V1 ...|[Perfect Fitness ...|     0.969|2.804|0.0157485926|\n",
            "|[Top Flite Women'...|[Perfect Fitness ...|     0.968|  2.8|0.0151072472|\n",
            "+--------------------+--------------------+----------+-----+------------+\n",
            "only showing top 20 rows\n",
            "\n"
          ],
          "name": "stdout"
        }
      ]
    }
  ]
}