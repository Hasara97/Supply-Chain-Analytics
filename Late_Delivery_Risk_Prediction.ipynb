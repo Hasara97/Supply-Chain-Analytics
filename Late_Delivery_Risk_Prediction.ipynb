{
  "nbformat": 4,
  "nbformat_minor": 0,
  "metadata": {
    "colab": {
      "name": "Late_Delivery_Risk_Prediction.ipynb",
      "provenance": [],
      "collapsed_sections": []
    },
    "kernelspec": {
      "name": "python3",
      "display_name": "Python 3"
    },
    "language_info": {
      "name": "python"
    }
  },
  "cells": [
    {
      "cell_type": "markdown",
      "metadata": {
        "id": "yYBVKiDZkyBW"
      },
      "source": [
        "**Loading Dataset**"
      ]
    },
    {
      "cell_type": "code",
      "metadata": {
        "colab": {
          "base_uri": "https://localhost:8080/"
        },
        "id": "cZwCK6VY4CPg",
        "outputId": "603e0064-2174-4375-f341-f925e7c52a94"
      },
      "source": [
        "from google.colab import drive\n",
        "drive.mount(\"/content/gdrive\")\n"
      ],
      "execution_count": null,
      "outputs": [
        {
          "output_type": "stream",
          "text": [
            "Mounted at /content/gdrive\n"
          ],
          "name": "stdout"
        }
      ]
    },
    {
      "cell_type": "code",
      "metadata": {
        "colab": {
          "base_uri": "https://localhost:8080/",
          "height": 600
        },
        "id": "Jn8evmOI3nv6",
        "outputId": "edcfe08b-157e-4999-c10b-5c76c7775fd9"
      },
      "source": [
        "import pandas as pd\n",
        "\n",
        "data = pd.read_csv(\"/content/gdrive/My Drive/Colab Notebooks/data/PreprocessedDataCoSupplyChainDataset.csv\", encoding='latin1')\n",
        "\n",
        "data.head(10)"
      ],
      "execution_count": null,
      "outputs": [
        {
          "output_type": "execute_result",
          "data": {
            "text/html": [
              "<div>\n",
              "<style scoped>\n",
              "    .dataframe tbody tr th:only-of-type {\n",
              "        vertical-align: middle;\n",
              "    }\n",
              "\n",
              "    .dataframe tbody tr th {\n",
              "        vertical-align: top;\n",
              "    }\n",
              "\n",
              "    .dataframe thead th {\n",
              "        text-align: right;\n",
              "    }\n",
              "</style>\n",
              "<table border=\"1\" class=\"dataframe\">\n",
              "  <thead>\n",
              "    <tr style=\"text-align: right;\">\n",
              "      <th></th>\n",
              "      <th>Type</th>\n",
              "      <th>Days for shipping (real)</th>\n",
              "      <th>Days for shipment (scheduled)</th>\n",
              "      <th>Benefit per order</th>\n",
              "      <th>Sales per customer</th>\n",
              "      <th>Delivery Status</th>\n",
              "      <th>Late_delivery_risk</th>\n",
              "      <th>Category Name</th>\n",
              "      <th>Customer City</th>\n",
              "      <th>Customer Country</th>\n",
              "      <th>Customer Segment</th>\n",
              "      <th>Customer State</th>\n",
              "      <th>Department Name</th>\n",
              "      <th>Market</th>\n",
              "      <th>Order City</th>\n",
              "      <th>Order Country</th>\n",
              "      <th>order date (DateOrders)</th>\n",
              "      <th>Order Item Discount</th>\n",
              "      <th>Order Item Product Price</th>\n",
              "      <th>Order Item Profit Ratio</th>\n",
              "      <th>Order Item Quantity</th>\n",
              "      <th>Sales</th>\n",
              "      <th>Order Item Total</th>\n",
              "      <th>Order Profit Per Order</th>\n",
              "      <th>Order Region</th>\n",
              "      <th>Order State</th>\n",
              "      <th>Order Status</th>\n",
              "      <th>Product Name</th>\n",
              "      <th>Shipping Mode</th>\n",
              "      <th>Customer Name</th>\n",
              "    </tr>\n",
              "  </thead>\n",
              "  <tbody>\n",
              "    <tr>\n",
              "      <th>0</th>\n",
              "      <td>DEBIT</td>\n",
              "      <td>3</td>\n",
              "      <td>4</td>\n",
              "      <td>91.250000</td>\n",
              "      <td>314.640015</td>\n",
              "      <td>Advance shipping</td>\n",
              "      <td>0</td>\n",
              "      <td>Sporting Goods</td>\n",
              "      <td>Caguas</td>\n",
              "      <td>Puerto Rico</td>\n",
              "      <td>Consumer</td>\n",
              "      <td>PR</td>\n",
              "      <td>Fitness</td>\n",
              "      <td>Pacific Asia</td>\n",
              "      <td>Bekasi</td>\n",
              "      <td>Indonesia</td>\n",
              "      <td>1/31/2018 22:56</td>\n",
              "      <td>13.110000</td>\n",
              "      <td>327.75</td>\n",
              "      <td>0.29</td>\n",
              "      <td>1</td>\n",
              "      <td>327.75</td>\n",
              "      <td>314.640015</td>\n",
              "      <td>91.250000</td>\n",
              "      <td>Southeast Asia</td>\n",
              "      <td>Java Occidental</td>\n",
              "      <td>COMPLETE</td>\n",
              "      <td>Smart watch</td>\n",
              "      <td>Standard Class</td>\n",
              "      <td>CallyHolloway</td>\n",
              "    </tr>\n",
              "    <tr>\n",
              "      <th>1</th>\n",
              "      <td>TRANSFER</td>\n",
              "      <td>5</td>\n",
              "      <td>4</td>\n",
              "      <td>-249.089996</td>\n",
              "      <td>311.359985</td>\n",
              "      <td>Late delivery</td>\n",
              "      <td>1</td>\n",
              "      <td>Sporting Goods</td>\n",
              "      <td>Caguas</td>\n",
              "      <td>Puerto Rico</td>\n",
              "      <td>Consumer</td>\n",
              "      <td>PR</td>\n",
              "      <td>Fitness</td>\n",
              "      <td>Pacific Asia</td>\n",
              "      <td>Bikaner</td>\n",
              "      <td>India</td>\n",
              "      <td>1/13/2018 12:27</td>\n",
              "      <td>16.389999</td>\n",
              "      <td>327.75</td>\n",
              "      <td>-0.80</td>\n",
              "      <td>1</td>\n",
              "      <td>327.75</td>\n",
              "      <td>311.359985</td>\n",
              "      <td>-249.089996</td>\n",
              "      <td>South Asia</td>\n",
              "      <td>RajastÃ¡n</td>\n",
              "      <td>PENDING</td>\n",
              "      <td>Smart watch</td>\n",
              "      <td>Standard Class</td>\n",
              "      <td>IreneLuna</td>\n",
              "    </tr>\n",
              "    <tr>\n",
              "      <th>2</th>\n",
              "      <td>CASH</td>\n",
              "      <td>4</td>\n",
              "      <td>4</td>\n",
              "      <td>-247.779999</td>\n",
              "      <td>309.720001</td>\n",
              "      <td>Shipping on time</td>\n",
              "      <td>0</td>\n",
              "      <td>Sporting Goods</td>\n",
              "      <td>San Jose</td>\n",
              "      <td>EE. UU.</td>\n",
              "      <td>Consumer</td>\n",
              "      <td>CA</td>\n",
              "      <td>Fitness</td>\n",
              "      <td>Pacific Asia</td>\n",
              "      <td>Bikaner</td>\n",
              "      <td>India</td>\n",
              "      <td>1/13/2018 12:06</td>\n",
              "      <td>18.030001</td>\n",
              "      <td>327.75</td>\n",
              "      <td>-0.80</td>\n",
              "      <td>1</td>\n",
              "      <td>327.75</td>\n",
              "      <td>309.720001</td>\n",
              "      <td>-247.779999</td>\n",
              "      <td>South Asia</td>\n",
              "      <td>RajastÃ¡n</td>\n",
              "      <td>CLOSED</td>\n",
              "      <td>Smart watch</td>\n",
              "      <td>Standard Class</td>\n",
              "      <td>GillianMaldonado</td>\n",
              "    </tr>\n",
              "    <tr>\n",
              "      <th>3</th>\n",
              "      <td>DEBIT</td>\n",
              "      <td>3</td>\n",
              "      <td>4</td>\n",
              "      <td>22.860001</td>\n",
              "      <td>304.809998</td>\n",
              "      <td>Advance shipping</td>\n",
              "      <td>0</td>\n",
              "      <td>Sporting Goods</td>\n",
              "      <td>Los Angeles</td>\n",
              "      <td>EE. UU.</td>\n",
              "      <td>Home Office</td>\n",
              "      <td>CA</td>\n",
              "      <td>Fitness</td>\n",
              "      <td>Pacific Asia</td>\n",
              "      <td>Townsville</td>\n",
              "      <td>Australia</td>\n",
              "      <td>1/13/2018 11:45</td>\n",
              "      <td>22.940001</td>\n",
              "      <td>327.75</td>\n",
              "      <td>0.08</td>\n",
              "      <td>1</td>\n",
              "      <td>327.75</td>\n",
              "      <td>304.809998</td>\n",
              "      <td>22.860001</td>\n",
              "      <td>Oceania</td>\n",
              "      <td>Queensland</td>\n",
              "      <td>COMPLETE</td>\n",
              "      <td>Smart watch</td>\n",
              "      <td>Standard Class</td>\n",
              "      <td>TanaTate</td>\n",
              "    </tr>\n",
              "    <tr>\n",
              "      <th>4</th>\n",
              "      <td>PAYMENT</td>\n",
              "      <td>2</td>\n",
              "      <td>4</td>\n",
              "      <td>134.210007</td>\n",
              "      <td>298.250000</td>\n",
              "      <td>Advance shipping</td>\n",
              "      <td>0</td>\n",
              "      <td>Sporting Goods</td>\n",
              "      <td>Caguas</td>\n",
              "      <td>Puerto Rico</td>\n",
              "      <td>Corporate</td>\n",
              "      <td>PR</td>\n",
              "      <td>Fitness</td>\n",
              "      <td>Pacific Asia</td>\n",
              "      <td>Townsville</td>\n",
              "      <td>Australia</td>\n",
              "      <td>1/13/2018 11:24</td>\n",
              "      <td>29.500000</td>\n",
              "      <td>327.75</td>\n",
              "      <td>0.45</td>\n",
              "      <td>1</td>\n",
              "      <td>327.75</td>\n",
              "      <td>298.250000</td>\n",
              "      <td>134.210007</td>\n",
              "      <td>Oceania</td>\n",
              "      <td>Queensland</td>\n",
              "      <td>PENDING_PAYMENT</td>\n",
              "      <td>Smart watch</td>\n",
              "      <td>Standard Class</td>\n",
              "      <td>OrliHendricks</td>\n",
              "    </tr>\n",
              "    <tr>\n",
              "      <th>5</th>\n",
              "      <td>TRANSFER</td>\n",
              "      <td>6</td>\n",
              "      <td>4</td>\n",
              "      <td>18.580000</td>\n",
              "      <td>294.980011</td>\n",
              "      <td>Shipping canceled</td>\n",
              "      <td>0</td>\n",
              "      <td>Sporting Goods</td>\n",
              "      <td>Tonawanda</td>\n",
              "      <td>EE. UU.</td>\n",
              "      <td>Consumer</td>\n",
              "      <td>NY</td>\n",
              "      <td>Fitness</td>\n",
              "      <td>Pacific Asia</td>\n",
              "      <td>Toowoomba</td>\n",
              "      <td>Australia</td>\n",
              "      <td>1/13/2018 11:03</td>\n",
              "      <td>32.779999</td>\n",
              "      <td>327.75</td>\n",
              "      <td>0.06</td>\n",
              "      <td>1</td>\n",
              "      <td>327.75</td>\n",
              "      <td>294.980011</td>\n",
              "      <td>18.580000</td>\n",
              "      <td>Oceania</td>\n",
              "      <td>Queensland</td>\n",
              "      <td>CANCELED</td>\n",
              "      <td>Smart watch</td>\n",
              "      <td>Standard Class</td>\n",
              "      <td>KimberlyFlowers</td>\n",
              "    </tr>\n",
              "    <tr>\n",
              "      <th>6</th>\n",
              "      <td>DEBIT</td>\n",
              "      <td>2</td>\n",
              "      <td>1</td>\n",
              "      <td>95.180000</td>\n",
              "      <td>288.420013</td>\n",
              "      <td>Late delivery</td>\n",
              "      <td>1</td>\n",
              "      <td>Sporting Goods</td>\n",
              "      <td>Caguas</td>\n",
              "      <td>Puerto Rico</td>\n",
              "      <td>Home Office</td>\n",
              "      <td>PR</td>\n",
              "      <td>Fitness</td>\n",
              "      <td>Pacific Asia</td>\n",
              "      <td>Guangzhou</td>\n",
              "      <td>China</td>\n",
              "      <td>1/13/2018 10:42</td>\n",
              "      <td>39.330002</td>\n",
              "      <td>327.75</td>\n",
              "      <td>0.33</td>\n",
              "      <td>1</td>\n",
              "      <td>327.75</td>\n",
              "      <td>288.420013</td>\n",
              "      <td>95.180000</td>\n",
              "      <td>Eastern Asia</td>\n",
              "      <td>Guangdong</td>\n",
              "      <td>COMPLETE</td>\n",
              "      <td>Smart watch</td>\n",
              "      <td>First Class</td>\n",
              "      <td>ConstanceTerrell</td>\n",
              "    </tr>\n",
              "    <tr>\n",
              "      <th>7</th>\n",
              "      <td>TRANSFER</td>\n",
              "      <td>2</td>\n",
              "      <td>1</td>\n",
              "      <td>68.430000</td>\n",
              "      <td>285.140015</td>\n",
              "      <td>Late delivery</td>\n",
              "      <td>1</td>\n",
              "      <td>Sporting Goods</td>\n",
              "      <td>Miami</td>\n",
              "      <td>EE. UU.</td>\n",
              "      <td>Corporate</td>\n",
              "      <td>FL</td>\n",
              "      <td>Fitness</td>\n",
              "      <td>Pacific Asia</td>\n",
              "      <td>Guangzhou</td>\n",
              "      <td>China</td>\n",
              "      <td>1/13/2018 10:21</td>\n",
              "      <td>42.610001</td>\n",
              "      <td>327.75</td>\n",
              "      <td>0.24</td>\n",
              "      <td>1</td>\n",
              "      <td>327.75</td>\n",
              "      <td>285.140015</td>\n",
              "      <td>68.430000</td>\n",
              "      <td>Eastern Asia</td>\n",
              "      <td>Guangdong</td>\n",
              "      <td>PROCESSING</td>\n",
              "      <td>Smart watch</td>\n",
              "      <td>First Class</td>\n",
              "      <td>EricaStevens</td>\n",
              "    </tr>\n",
              "    <tr>\n",
              "      <th>8</th>\n",
              "      <td>CASH</td>\n",
              "      <td>3</td>\n",
              "      <td>2</td>\n",
              "      <td>133.720001</td>\n",
              "      <td>278.589996</td>\n",
              "      <td>Late delivery</td>\n",
              "      <td>1</td>\n",
              "      <td>Sporting Goods</td>\n",
              "      <td>Caguas</td>\n",
              "      <td>Puerto Rico</td>\n",
              "      <td>Corporate</td>\n",
              "      <td>PR</td>\n",
              "      <td>Fitness</td>\n",
              "      <td>Pacific Asia</td>\n",
              "      <td>Guangzhou</td>\n",
              "      <td>China</td>\n",
              "      <td>1/13/2018 10:00</td>\n",
              "      <td>49.160000</td>\n",
              "      <td>327.75</td>\n",
              "      <td>0.48</td>\n",
              "      <td>1</td>\n",
              "      <td>327.75</td>\n",
              "      <td>278.589996</td>\n",
              "      <td>133.720001</td>\n",
              "      <td>Eastern Asia</td>\n",
              "      <td>Guangdong</td>\n",
              "      <td>CLOSED</td>\n",
              "      <td>Smart watch</td>\n",
              "      <td>Second Class</td>\n",
              "      <td>NicholeOlsen</td>\n",
              "    </tr>\n",
              "    <tr>\n",
              "      <th>9</th>\n",
              "      <td>CASH</td>\n",
              "      <td>2</td>\n",
              "      <td>1</td>\n",
              "      <td>132.149994</td>\n",
              "      <td>275.309998</td>\n",
              "      <td>Late delivery</td>\n",
              "      <td>1</td>\n",
              "      <td>Sporting Goods</td>\n",
              "      <td>San Ramon</td>\n",
              "      <td>EE. UU.</td>\n",
              "      <td>Corporate</td>\n",
              "      <td>CA</td>\n",
              "      <td>Fitness</td>\n",
              "      <td>Pacific Asia</td>\n",
              "      <td>Guangzhou</td>\n",
              "      <td>China</td>\n",
              "      <td>1/13/2018 9:39</td>\n",
              "      <td>52.439999</td>\n",
              "      <td>327.75</td>\n",
              "      <td>0.48</td>\n",
              "      <td>1</td>\n",
              "      <td>327.75</td>\n",
              "      <td>275.309998</td>\n",
              "      <td>132.149994</td>\n",
              "      <td>Eastern Asia</td>\n",
              "      <td>Guangdong</td>\n",
              "      <td>CLOSED</td>\n",
              "      <td>Smart watch</td>\n",
              "      <td>First Class</td>\n",
              "      <td>OprahDelacruz</td>\n",
              "    </tr>\n",
              "  </tbody>\n",
              "</table>\n",
              "</div>"
            ],
            "text/plain": [
              "       Type  Days for shipping (real)  ...   Shipping Mode     Customer Name\n",
              "0     DEBIT                         3  ...  Standard Class     CallyHolloway\n",
              "1  TRANSFER                         5  ...  Standard Class         IreneLuna\n",
              "2      CASH                         4  ...  Standard Class  GillianMaldonado\n",
              "3     DEBIT                         3  ...  Standard Class          TanaTate\n",
              "4   PAYMENT                         2  ...  Standard Class     OrliHendricks\n",
              "5  TRANSFER                         6  ...  Standard Class   KimberlyFlowers\n",
              "6     DEBIT                         2  ...     First Class  ConstanceTerrell\n",
              "7  TRANSFER                         2  ...     First Class      EricaStevens\n",
              "8      CASH                         3  ...    Second Class      NicholeOlsen\n",
              "9      CASH                         2  ...     First Class     OprahDelacruz\n",
              "\n",
              "[10 rows x 30 columns]"
            ]
          },
          "metadata": {
            "tags": []
          },
          "execution_count": 348
        }
      ]
    },
    {
      "cell_type": "markdown",
      "metadata": {
        "id": "Z-dwDFugk7JR"
      },
      "source": [
        "**Checking for discrete values**"
      ]
    },
    {
      "cell_type": "code",
      "metadata": {
        "colab": {
          "base_uri": "https://localhost:8080/"
        },
        "id": "TEk0q2rb4W7n",
        "outputId": "7b2ea45e-fd76-4286-a0d8-f388ef87b069"
      },
      "source": [
        "data['Type'].value_counts()"
      ],
      "execution_count": null,
      "outputs": [
        {
          "output_type": "execute_result",
          "data": {
            "text/plain": [
              "DEBIT       69295\n",
              "TRANSFER    49883\n",
              "PAYMENT     41725\n",
              "CASH        19616\n",
              "Name: Type, dtype: int64"
            ]
          },
          "metadata": {
            "tags": []
          },
          "execution_count": 350
        }
      ]
    },
    {
      "cell_type": "code",
      "metadata": {
        "colab": {
          "base_uri": "https://localhost:8080/"
        },
        "id": "qIJtJlKmEQqX",
        "outputId": "684eb2f5-7967-437a-9a05-5c0df87ac6af"
      },
      "source": [
        "data['Late_delivery_risk'].value_counts()"
      ],
      "execution_count": null,
      "outputs": [
        {
          "output_type": "execute_result",
          "data": {
            "text/plain": [
              "1    98977\n",
              "0    81542\n",
              "Name: Late_delivery_risk, dtype: int64"
            ]
          },
          "metadata": {
            "tags": []
          },
          "execution_count": 163
        }
      ]
    },
    {
      "cell_type": "code",
      "metadata": {
        "colab": {
          "base_uri": "https://localhost:8080/"
        },
        "id": "1hPv-r8b5vxc",
        "outputId": "b0060ea5-bd73-4fe2-c371-a9e15d220771"
      },
      "source": [
        "data['Customer Name'].value_counts() #'Delivery Status'"
      ],
      "execution_count": null,
      "outputs": [
        {
          "output_type": "execute_result",
          "data": {
            "text/plain": [
              "MarySmith         23884\n",
              "RobertSmith         744\n",
              "JamesSmith          726\n",
              "DavidSmith          723\n",
              "JohnSmith           645\n",
              "                  ...  \n",
              "AudreyObrien          1\n",
              "DorothyKennedy        1\n",
              "FatimaKnowles         1\n",
              "AlyssaBenson          1\n",
              "KiayadaHopkins        1\n",
              "Name: Customer Name, Length: 14033, dtype: int64"
            ]
          },
          "metadata": {
            "tags": []
          },
          "execution_count": 25
        }
      ]
    },
    {
      "cell_type": "code",
      "metadata": {
        "id": "gizBz2pv_4bh"
      },
      "source": [
        "data=data.drop(['Product Price','Category Id','Order Id','Product Category Id','Order Item Id','Product Card Id','Order Item Cardprod Id','Customer Id','Order Customer Id','Department Id','Customer Zipcode'],axis=1)\n",
        "#execute only once"
      ],
      "execution_count": null,
      "outputs": []
    },
    {
      "cell_type": "code",
      "metadata": {
        "colab": {
          "base_uri": "https://localhost:8080/",
          "height": 360
        },
        "id": "C4uUZPyxCX0V",
        "outputId": "59f03c17-fc05-4d39-ed92-8acdf71eb476"
      },
      "source": [
        "data.head()"
      ],
      "execution_count": null,
      "outputs": [
        {
          "output_type": "execute_result",
          "data": {
            "text/html": [
              "<div>\n",
              "<style scoped>\n",
              "    .dataframe tbody tr th:only-of-type {\n",
              "        vertical-align: middle;\n",
              "    }\n",
              "\n",
              "    .dataframe tbody tr th {\n",
              "        vertical-align: top;\n",
              "    }\n",
              "\n",
              "    .dataframe thead th {\n",
              "        text-align: right;\n",
              "    }\n",
              "</style>\n",
              "<table border=\"1\" class=\"dataframe\">\n",
              "  <thead>\n",
              "    <tr style=\"text-align: right;\">\n",
              "      <th></th>\n",
              "      <th>Unnamed: 0</th>\n",
              "      <th>Type</th>\n",
              "      <th>Days for shipping (real)</th>\n",
              "      <th>Days for shipment (scheduled)</th>\n",
              "      <th>Benefit per order</th>\n",
              "      <th>Sales per customer</th>\n",
              "      <th>Delivery Status</th>\n",
              "      <th>Late_delivery_risk</th>\n",
              "      <th>Category Name</th>\n",
              "      <th>Customer City</th>\n",
              "      <th>Customer Country</th>\n",
              "      <th>Customer Segment</th>\n",
              "      <th>Customer State</th>\n",
              "      <th>Department Name</th>\n",
              "      <th>Market</th>\n",
              "      <th>Order City</th>\n",
              "      <th>Order Country</th>\n",
              "      <th>order date (DateOrders)</th>\n",
              "      <th>Order Item Discount</th>\n",
              "      <th>Order Item Discount Rate</th>\n",
              "      <th>Order Item Product Price</th>\n",
              "      <th>Order Item Profit Ratio</th>\n",
              "      <th>Order Item Quantity</th>\n",
              "      <th>Sales</th>\n",
              "      <th>Order Item Total</th>\n",
              "      <th>Order Profit Per Order</th>\n",
              "      <th>Order Region</th>\n",
              "      <th>Order State</th>\n",
              "      <th>Order Status</th>\n",
              "      <th>Product Name</th>\n",
              "      <th>Shipping Mode</th>\n",
              "      <th>Customer Name</th>\n",
              "    </tr>\n",
              "  </thead>\n",
              "  <tbody>\n",
              "    <tr>\n",
              "      <th>0</th>\n",
              "      <td>0</td>\n",
              "      <td>DEBIT</td>\n",
              "      <td>3</td>\n",
              "      <td>4</td>\n",
              "      <td>91.250000</td>\n",
              "      <td>314.640015</td>\n",
              "      <td>Advance shipping</td>\n",
              "      <td>0</td>\n",
              "      <td>Sporting Goods</td>\n",
              "      <td>Caguas</td>\n",
              "      <td>Puerto Rico</td>\n",
              "      <td>Consumer</td>\n",
              "      <td>PR</td>\n",
              "      <td>Fitness</td>\n",
              "      <td>Pacific Asia</td>\n",
              "      <td>Bekasi</td>\n",
              "      <td>Indonesia</td>\n",
              "      <td>1/31/2018 22:56</td>\n",
              "      <td>13.110000</td>\n",
              "      <td>0.04</td>\n",
              "      <td>327.75</td>\n",
              "      <td>0.29</td>\n",
              "      <td>1</td>\n",
              "      <td>327.75</td>\n",
              "      <td>314.640015</td>\n",
              "      <td>91.250000</td>\n",
              "      <td>Southeast Asia</td>\n",
              "      <td>Java Occidental</td>\n",
              "      <td>COMPLETE</td>\n",
              "      <td>Smart watch</td>\n",
              "      <td>Standard Class</td>\n",
              "      <td>CallyHolloway</td>\n",
              "    </tr>\n",
              "    <tr>\n",
              "      <th>1</th>\n",
              "      <td>1</td>\n",
              "      <td>TRANSFER</td>\n",
              "      <td>5</td>\n",
              "      <td>4</td>\n",
              "      <td>-249.089996</td>\n",
              "      <td>311.359985</td>\n",
              "      <td>Late delivery</td>\n",
              "      <td>1</td>\n",
              "      <td>Sporting Goods</td>\n",
              "      <td>Caguas</td>\n",
              "      <td>Puerto Rico</td>\n",
              "      <td>Consumer</td>\n",
              "      <td>PR</td>\n",
              "      <td>Fitness</td>\n",
              "      <td>Pacific Asia</td>\n",
              "      <td>Bikaner</td>\n",
              "      <td>India</td>\n",
              "      <td>1/13/2018 12:27</td>\n",
              "      <td>16.389999</td>\n",
              "      <td>0.05</td>\n",
              "      <td>327.75</td>\n",
              "      <td>-0.80</td>\n",
              "      <td>1</td>\n",
              "      <td>327.75</td>\n",
              "      <td>311.359985</td>\n",
              "      <td>-249.089996</td>\n",
              "      <td>South Asia</td>\n",
              "      <td>RajastÃ¡n</td>\n",
              "      <td>PENDING</td>\n",
              "      <td>Smart watch</td>\n",
              "      <td>Standard Class</td>\n",
              "      <td>IreneLuna</td>\n",
              "    </tr>\n",
              "    <tr>\n",
              "      <th>2</th>\n",
              "      <td>2</td>\n",
              "      <td>CASH</td>\n",
              "      <td>4</td>\n",
              "      <td>4</td>\n",
              "      <td>-247.779999</td>\n",
              "      <td>309.720001</td>\n",
              "      <td>Shipping on time</td>\n",
              "      <td>0</td>\n",
              "      <td>Sporting Goods</td>\n",
              "      <td>San Jose</td>\n",
              "      <td>EE. UU.</td>\n",
              "      <td>Consumer</td>\n",
              "      <td>CA</td>\n",
              "      <td>Fitness</td>\n",
              "      <td>Pacific Asia</td>\n",
              "      <td>Bikaner</td>\n",
              "      <td>India</td>\n",
              "      <td>1/13/2018 12:06</td>\n",
              "      <td>18.030001</td>\n",
              "      <td>0.06</td>\n",
              "      <td>327.75</td>\n",
              "      <td>-0.80</td>\n",
              "      <td>1</td>\n",
              "      <td>327.75</td>\n",
              "      <td>309.720001</td>\n",
              "      <td>-247.779999</td>\n",
              "      <td>South Asia</td>\n",
              "      <td>RajastÃ¡n</td>\n",
              "      <td>CLOSED</td>\n",
              "      <td>Smart watch</td>\n",
              "      <td>Standard Class</td>\n",
              "      <td>GillianMaldonado</td>\n",
              "    </tr>\n",
              "    <tr>\n",
              "      <th>3</th>\n",
              "      <td>3</td>\n",
              "      <td>DEBIT</td>\n",
              "      <td>3</td>\n",
              "      <td>4</td>\n",
              "      <td>22.860001</td>\n",
              "      <td>304.809998</td>\n",
              "      <td>Advance shipping</td>\n",
              "      <td>0</td>\n",
              "      <td>Sporting Goods</td>\n",
              "      <td>Los Angeles</td>\n",
              "      <td>EE. UU.</td>\n",
              "      <td>Home Office</td>\n",
              "      <td>CA</td>\n",
              "      <td>Fitness</td>\n",
              "      <td>Pacific Asia</td>\n",
              "      <td>Townsville</td>\n",
              "      <td>Australia</td>\n",
              "      <td>1/13/2018 11:45</td>\n",
              "      <td>22.940001</td>\n",
              "      <td>0.07</td>\n",
              "      <td>327.75</td>\n",
              "      <td>0.08</td>\n",
              "      <td>1</td>\n",
              "      <td>327.75</td>\n",
              "      <td>304.809998</td>\n",
              "      <td>22.860001</td>\n",
              "      <td>Oceania</td>\n",
              "      <td>Queensland</td>\n",
              "      <td>COMPLETE</td>\n",
              "      <td>Smart watch</td>\n",
              "      <td>Standard Class</td>\n",
              "      <td>TanaTate</td>\n",
              "    </tr>\n",
              "    <tr>\n",
              "      <th>4</th>\n",
              "      <td>4</td>\n",
              "      <td>PAYMENT</td>\n",
              "      <td>2</td>\n",
              "      <td>4</td>\n",
              "      <td>134.210007</td>\n",
              "      <td>298.250000</td>\n",
              "      <td>Advance shipping</td>\n",
              "      <td>0</td>\n",
              "      <td>Sporting Goods</td>\n",
              "      <td>Caguas</td>\n",
              "      <td>Puerto Rico</td>\n",
              "      <td>Corporate</td>\n",
              "      <td>PR</td>\n",
              "      <td>Fitness</td>\n",
              "      <td>Pacific Asia</td>\n",
              "      <td>Townsville</td>\n",
              "      <td>Australia</td>\n",
              "      <td>1/13/2018 11:24</td>\n",
              "      <td>29.500000</td>\n",
              "      <td>0.09</td>\n",
              "      <td>327.75</td>\n",
              "      <td>0.45</td>\n",
              "      <td>1</td>\n",
              "      <td>327.75</td>\n",
              "      <td>298.250000</td>\n",
              "      <td>134.210007</td>\n",
              "      <td>Oceania</td>\n",
              "      <td>Queensland</td>\n",
              "      <td>PENDING_PAYMENT</td>\n",
              "      <td>Smart watch</td>\n",
              "      <td>Standard Class</td>\n",
              "      <td>OrliHendricks</td>\n",
              "    </tr>\n",
              "  </tbody>\n",
              "</table>\n",
              "</div>"
            ],
            "text/plain": [
              "   Unnamed: 0      Type  ...   Shipping Mode     Customer Name\n",
              "0           0     DEBIT  ...  Standard Class     CallyHolloway\n",
              "1           1  TRANSFER  ...  Standard Class         IreneLuna\n",
              "2           2      CASH  ...  Standard Class  GillianMaldonado\n",
              "3           3     DEBIT  ...  Standard Class          TanaTate\n",
              "4           4   PAYMENT  ...  Standard Class     OrliHendricks\n",
              "\n",
              "[5 rows x 32 columns]"
            ]
          },
          "metadata": {
            "tags": []
          },
          "execution_count": 165
        }
      ]
    },
    {
      "cell_type": "code",
      "metadata": {
        "colab": {
          "base_uri": "https://localhost:8080/"
        },
        "id": "xfsiCG14Cexq",
        "outputId": "afdb4f4f-785b-437d-d6a9-3696fad7c53e"
      },
      "source": [
        "data['Days for shipment (scheduled)'].value_counts()"
      ],
      "execution_count": null,
      "outputs": [
        {
          "output_type": "execute_result",
          "data": {
            "text/plain": [
              "4    107752\n",
              "2     35216\n",
              "1     27814\n",
              "0      9737\n",
              "Name: Days for shipment (scheduled), dtype: int64"
            ]
          },
          "metadata": {
            "tags": []
          },
          "execution_count": 46
        }
      ]
    },
    {
      "cell_type": "code",
      "metadata": {
        "colab": {
          "base_uri": "https://localhost:8080/"
        },
        "id": "k7mNDAOoomGz",
        "outputId": "0d842830-3e60-4ce7-bd81-a22e80d39c5a"
      },
      "source": [
        "data['Order Region'].value_counts()"
      ],
      "execution_count": null,
      "outputs": [
        {
          "output_type": "execute_result",
          "data": {
            "text/plain": [
              "Central America    28341\n",
              "Western Europe     27109\n",
              "South America      14935\n",
              "Oceania            10148\n",
              "Northern Europe     9792\n",
              "Southeast Asia      9539\n",
              "Southern Europe     9431\n",
              "Caribbean           8318\n",
              "West of USA         7993\n",
              "South Asia          7731\n",
              "Eastern Asia        7280\n",
              "East of USA         6915\n",
              "West Asia           6009\n",
              "US Center           5887\n",
              "South of  USA       4045\n",
              "Eastern Europe      3920\n",
              "West Africa         3696\n",
              "North Africa        3232\n",
              "East Africa         1852\n",
              "Central Africa      1677\n",
              "Southern Africa     1157\n",
              "Canada               959\n",
              "Central Asia         553\n",
              "Name: Order Region, dtype: int64"
            ]
          },
          "metadata": {
            "tags": []
          },
          "execution_count": 326
        }
      ]
    },
    {
      "cell_type": "code",
      "metadata": {
        "colab": {
          "base_uri": "https://localhost:8080/"
        },
        "id": "6pbdgVfmG49G",
        "outputId": "f00b3a17-ab28-42d4-8409-ffca19457a70"
      },
      "source": [
        "data['Shipping Mode'].value_counts()"
      ],
      "execution_count": null,
      "outputs": [
        {
          "output_type": "execute_result",
          "data": {
            "text/plain": [
              "Standard Class    107752\n",
              "Second Class       35216\n",
              "First Class        27814\n",
              "Same Day            9737\n",
              "Name: Shipping Mode, dtype: int64"
            ]
          },
          "metadata": {
            "tags": []
          },
          "execution_count": 47
        }
      ]
    },
    {
      "cell_type": "markdown",
      "metadata": {
        "id": "iCDX7aTGlDvE"
      },
      "source": [
        "**Correlation Plot**"
      ]
    },
    {
      "cell_type": "code",
      "metadata": {
        "colab": {
          "base_uri": "https://localhost:8080/",
          "height": 591
        },
        "id": "VNdWAh2zTlGn",
        "outputId": "530bf680-d362-4fad-f50b-cdda3645fddd"
      },
      "source": [
        "import matplotlib.pyplot as plt\n",
        "import seaborn as sns\n",
        "\n",
        "fig, ax = plt.subplots(figsize=(24,12))         # figsize\n",
        "sns.heatmap(data.corr(),annot=True,linewidths=.5,fmt='.1g',cmap= 'coolwarm') # Heatmap for correlation matrix"
      ],
      "execution_count": null,
      "outputs": [
        {
          "output_type": "execute_result",
          "data": {
            "text/plain": [
              "<matplotlib.axes._subplots.AxesSubplot at 0x7fa78b465410>"
            ]
          },
          "metadata": {
            "tags": []
          },
          "execution_count": 48
        },
        {
          "output_type": "display_data",
          "data": {
            "image/png": "[encoded data removed]",
            "text/plain": [
              "<Figure size 1728x864 with 2 Axes>"
            ]
          },
          "metadata": {
            "tags": [],
            "needs_background": "light"
          }
        }
      ]
    },
    {
      "cell_type": "code",
      "metadata": {
        "id": "VaDfwsVTUlbt"
      },
      "source": [
        "data=data.drop(['Unnamed: 0','Order Item Discount Rate'],axis=1)\n",
        "#execute only once"
      ],
      "execution_count": null,
      "outputs": []
    },
    {
      "cell_type": "code",
      "metadata": {
        "colab": {
          "base_uri": "https://localhost:8080/",
          "height": 360
        },
        "id": "NYuGoKwhVLvl",
        "outputId": "170a8c9c-3f8d-4607-f3d7-841b7de97c25"
      },
      "source": [
        "data.head()"
      ],
      "execution_count": null,
      "outputs": [
        {
          "output_type": "execute_result",
          "data": {
            "text/html": [
              "<div>\n",
              "<style scoped>\n",
              "    .dataframe tbody tr th:only-of-type {\n",
              "        vertical-align: middle;\n",
              "    }\n",
              "\n",
              "    .dataframe tbody tr th {\n",
              "        vertical-align: top;\n",
              "    }\n",
              "\n",
              "    .dataframe thead th {\n",
              "        text-align: right;\n",
              "    }\n",
              "</style>\n",
              "<table border=\"1\" class=\"dataframe\">\n",
              "  <thead>\n",
              "    <tr style=\"text-align: right;\">\n",
              "      <th></th>\n",
              "      <th>Type</th>\n",
              "      <th>Days for shipping (real)</th>\n",
              "      <th>Days for shipment (scheduled)</th>\n",
              "      <th>Benefit per order</th>\n",
              "      <th>Sales per customer</th>\n",
              "      <th>Delivery Status</th>\n",
              "      <th>Late_delivery_risk</th>\n",
              "      <th>Category Name</th>\n",
              "      <th>Customer City</th>\n",
              "      <th>Customer Country</th>\n",
              "      <th>Customer Segment</th>\n",
              "      <th>Customer State</th>\n",
              "      <th>Department Name</th>\n",
              "      <th>Market</th>\n",
              "      <th>Order City</th>\n",
              "      <th>Order Country</th>\n",
              "      <th>order date (DateOrders)</th>\n",
              "      <th>Order Item Discount</th>\n",
              "      <th>Order Item Product Price</th>\n",
              "      <th>Order Item Profit Ratio</th>\n",
              "      <th>Order Item Quantity</th>\n",
              "      <th>Sales</th>\n",
              "      <th>Order Item Total</th>\n",
              "      <th>Order Profit Per Order</th>\n",
              "      <th>Order Region</th>\n",
              "      <th>Order State</th>\n",
              "      <th>Order Status</th>\n",
              "      <th>Product Name</th>\n",
              "      <th>Shipping Mode</th>\n",
              "      <th>Customer Name</th>\n",
              "    </tr>\n",
              "  </thead>\n",
              "  <tbody>\n",
              "    <tr>\n",
              "      <th>0</th>\n",
              "      <td>DEBIT</td>\n",
              "      <td>3</td>\n",
              "      <td>4</td>\n",
              "      <td>91.250000</td>\n",
              "      <td>314.640015</td>\n",
              "      <td>Advance shipping</td>\n",
              "      <td>0</td>\n",
              "      <td>Sporting Goods</td>\n",
              "      <td>Caguas</td>\n",
              "      <td>Puerto Rico</td>\n",
              "      <td>Consumer</td>\n",
              "      <td>PR</td>\n",
              "      <td>Fitness</td>\n",
              "      <td>Pacific Asia</td>\n",
              "      <td>Bekasi</td>\n",
              "      <td>Indonesia</td>\n",
              "      <td>1/31/2018 22:56</td>\n",
              "      <td>13.110000</td>\n",
              "      <td>327.75</td>\n",
              "      <td>0.29</td>\n",
              "      <td>1</td>\n",
              "      <td>327.75</td>\n",
              "      <td>314.640015</td>\n",
              "      <td>91.250000</td>\n",
              "      <td>Southeast Asia</td>\n",
              "      <td>Java Occidental</td>\n",
              "      <td>COMPLETE</td>\n",
              "      <td>Smart watch</td>\n",
              "      <td>Standard Class</td>\n",
              "      <td>CallyHolloway</td>\n",
              "    </tr>\n",
              "    <tr>\n",
              "      <th>1</th>\n",
              "      <td>TRANSFER</td>\n",
              "      <td>5</td>\n",
              "      <td>4</td>\n",
              "      <td>-249.089996</td>\n",
              "      <td>311.359985</td>\n",
              "      <td>Late delivery</td>\n",
              "      <td>1</td>\n",
              "      <td>Sporting Goods</td>\n",
              "      <td>Caguas</td>\n",
              "      <td>Puerto Rico</td>\n",
              "      <td>Consumer</td>\n",
              "      <td>PR</td>\n",
              "      <td>Fitness</td>\n",
              "      <td>Pacific Asia</td>\n",
              "      <td>Bikaner</td>\n",
              "      <td>India</td>\n",
              "      <td>1/13/2018 12:27</td>\n",
              "      <td>16.389999</td>\n",
              "      <td>327.75</td>\n",
              "      <td>-0.80</td>\n",
              "      <td>1</td>\n",
              "      <td>327.75</td>\n",
              "      <td>311.359985</td>\n",
              "      <td>-249.089996</td>\n",
              "      <td>South Asia</td>\n",
              "      <td>RajastÃ¡n</td>\n",
              "      <td>PENDING</td>\n",
              "      <td>Smart watch</td>\n",
              "      <td>Standard Class</td>\n",
              "      <td>IreneLuna</td>\n",
              "    </tr>\n",
              "    <tr>\n",
              "      <th>2</th>\n",
              "      <td>CASH</td>\n",
              "      <td>4</td>\n",
              "      <td>4</td>\n",
              "      <td>-247.779999</td>\n",
              "      <td>309.720001</td>\n",
              "      <td>Shipping on time</td>\n",
              "      <td>0</td>\n",
              "      <td>Sporting Goods</td>\n",
              "      <td>San Jose</td>\n",
              "      <td>EE. UU.</td>\n",
              "      <td>Consumer</td>\n",
              "      <td>CA</td>\n",
              "      <td>Fitness</td>\n",
              "      <td>Pacific Asia</td>\n",
              "      <td>Bikaner</td>\n",
              "      <td>India</td>\n",
              "      <td>1/13/2018 12:06</td>\n",
              "      <td>18.030001</td>\n",
              "      <td>327.75</td>\n",
              "      <td>-0.80</td>\n",
              "      <td>1</td>\n",
              "      <td>327.75</td>\n",
              "      <td>309.720001</td>\n",
              "      <td>-247.779999</td>\n",
              "      <td>South Asia</td>\n",
              "      <td>RajastÃ¡n</td>\n",
              "      <td>CLOSED</td>\n",
              "      <td>Smart watch</td>\n",
              "      <td>Standard Class</td>\n",
              "      <td>GillianMaldonado</td>\n",
              "    </tr>\n",
              "    <tr>\n",
              "      <th>3</th>\n",
              "      <td>DEBIT</td>\n",
              "      <td>3</td>\n",
              "      <td>4</td>\n",
              "      <td>22.860001</td>\n",
              "      <td>304.809998</td>\n",
              "      <td>Advance shipping</td>\n",
              "      <td>0</td>\n",
              "      <td>Sporting Goods</td>\n",
              "      <td>Los Angeles</td>\n",
              "      <td>EE. UU.</td>\n",
              "      <td>Home Office</td>\n",
              "      <td>CA</td>\n",
              "      <td>Fitness</td>\n",
              "      <td>Pacific Asia</td>\n",
              "      <td>Townsville</td>\n",
              "      <td>Australia</td>\n",
              "      <td>1/13/2018 11:45</td>\n",
              "      <td>22.940001</td>\n",
              "      <td>327.75</td>\n",
              "      <td>0.08</td>\n",
              "      <td>1</td>\n",
              "      <td>327.75</td>\n",
              "      <td>304.809998</td>\n",
              "      <td>22.860001</td>\n",
              "      <td>Oceania</td>\n",
              "      <td>Queensland</td>\n",
              "      <td>COMPLETE</td>\n",
              "      <td>Smart watch</td>\n",
              "      <td>Standard Class</td>\n",
              "      <td>TanaTate</td>\n",
              "    </tr>\n",
              "    <tr>\n",
              "      <th>4</th>\n",
              "      <td>PAYMENT</td>\n",
              "      <td>2</td>\n",
              "      <td>4</td>\n",
              "      <td>134.210007</td>\n",
              "      <td>298.250000</td>\n",
              "      <td>Advance shipping</td>\n",
              "      <td>0</td>\n",
              "      <td>Sporting Goods</td>\n",
              "      <td>Caguas</td>\n",
              "      <td>Puerto Rico</td>\n",
              "      <td>Corporate</td>\n",
              "      <td>PR</td>\n",
              "      <td>Fitness</td>\n",
              "      <td>Pacific Asia</td>\n",
              "      <td>Townsville</td>\n",
              "      <td>Australia</td>\n",
              "      <td>1/13/2018 11:24</td>\n",
              "      <td>29.500000</td>\n",
              "      <td>327.75</td>\n",
              "      <td>0.45</td>\n",
              "      <td>1</td>\n",
              "      <td>327.75</td>\n",
              "      <td>298.250000</td>\n",
              "      <td>134.210007</td>\n",
              "      <td>Oceania</td>\n",
              "      <td>Queensland</td>\n",
              "      <td>PENDING_PAYMENT</td>\n",
              "      <td>Smart watch</td>\n",
              "      <td>Standard Class</td>\n",
              "      <td>OrliHendricks</td>\n",
              "    </tr>\n",
              "  </tbody>\n",
              "</table>\n",
              "</div>"
            ],
            "text/plain": [
              "       Type  Days for shipping (real)  ...   Shipping Mode     Customer Name\n",
              "0     DEBIT                         3  ...  Standard Class     CallyHolloway\n",
              "1  TRANSFER                         5  ...  Standard Class         IreneLuna\n",
              "2      CASH                         4  ...  Standard Class  GillianMaldonado\n",
              "3     DEBIT                         3  ...  Standard Class          TanaTate\n",
              "4   PAYMENT                         2  ...  Standard Class     OrliHendricks\n",
              "\n",
              "[5 rows x 30 columns]"
            ]
          },
          "metadata": {
            "tags": []
          },
          "execution_count": 167
        }
      ]
    },
    {
      "cell_type": "markdown",
      "metadata": {
        "id": "ssBiaXn4lH6M"
      },
      "source": [
        "**Pyspark Classification**"
      ]
    },
    {
      "cell_type": "code",
      "metadata": {
        "colab": {
          "base_uri": "https://localhost:8080/"
        },
        "id": "wmwTymP3WG_C",
        "outputId": "a63793f5-910a-4e63-ec00-ac234b33307e"
      },
      "source": [
        "#!pip install pyspark\n",
        "from pyspark.ml import Pipeline\n",
        "from pyspark.ml.classification import DecisionTreeClassifier\n",
        "from pyspark.ml.feature import StringIndexer, VectorIndexer\n",
        "from pyspark.ml.evaluation import MulticlassClassificationEvaluator\n",
        "from pyspark.sql import SparkSession\n",
        "\n",
        "from pyspark.ml.linalg import Vectors\n",
        "from pyspark.ml.feature import VectorAssembler\n",
        "\n",
        "spark = SparkSession.builder.appName(\"decision tree for late shipping\").getOrCreate()\n",
        "\n",
        "print(spark.sparkContext.appName)"
      ],
      "execution_count": null,
      "outputs": [
        {
          "output_type": "stream",
          "text": [
            "decision tree for late shipping\n"
          ],
          "name": "stdout"
        }
      ]
    },
    {
      "cell_type": "code",
      "metadata": {
        "colab": {
          "base_uri": "https://localhost:8080/"
        },
        "id": "agj4XvuTYPaT",
        "outputId": "a640a8ba-cea3-4a6c-81e3-be91ed0cd7db"
      },
      "source": [
        "ship_df = spark.createDataFrame(data) \n",
        "ship_df.show(10)"
      ],
      "execution_count": null,
      "outputs": [
        {
          "output_type": "stream",
          "text": [
            "+--------+------------------------+-----------------------------+-----------------+------------------+-----------------+------------------+--------------+-------------+----------------+----------------+--------------+---------------+------------+----------+-------------+-----------------------+-------------------+------------------------+-----------------------+-------------------+------+------------------+----------------------+--------------+---------------+---------------+------------+--------------+----------------+\n",
            "|    Type|Days for shipping (real)|Days for shipment (scheduled)|Benefit per order|Sales per customer|  Delivery Status|Late_delivery_risk| Category Name|Customer City|Customer Country|Customer Segment|Customer State|Department Name|      Market|Order City|Order Country|order date (DateOrders)|Order Item Discount|Order Item Product Price|Order Item Profit Ratio|Order Item Quantity| Sales|  Order Item Total|Order Profit Per Order|  Order Region|    Order State|   Order Status|Product Name| Shipping Mode|   Customer Name|\n",
            "+--------+------------------------+-----------------------------+-----------------+------------------+-----------------+------------------+--------------+-------------+----------------+----------------+--------------+---------------+------------+----------+-------------+-----------------------+-------------------+------------------------+-----------------------+-------------------+------+------------------+----------------------+--------------+---------------+---------------+------------+--------------+----------------+\n",
            "|   DEBIT|                       3|                            4|            91.25| 314.6400146000001| Advance shipping|                 0|Sporting Goods|       Caguas|     Puerto Rico|        Consumer|            PR|        Fitness|Pacific Asia|    Bekasi|    Indonesia|        1/31/2018 22:56|        13.10999966|                  327.75|            0.289999992|                  1|327.75| 314.6400146000001|                 91.25|Southeast Asia|Java Occidental|       COMPLETE|Smart watch |Standard Class|   CallyHolloway|\n",
            "|TRANSFER|                       5|                            4|     -249.0899963|       311.3599854|    Late delivery|                 1|Sporting Goods|       Caguas|     Puerto Rico|        Consumer|            PR|        Fitness|Pacific Asia|   Bikaner|        India|        1/13/2018 12:27|        16.38999939|                  327.75|           -0.800000012|                  1|327.75|       311.3599854|          -249.0899963|    South Asia|      RajastÃ¡n|        PENDING|Smart watch |Standard Class|       IreneLuna|\n",
            "|    CASH|                       4|                            4|     -247.7799988|       309.7200012| Shipping on time|                 0|Sporting Goods|     San Jose|         EE. UU.|        Consumer|            CA|        Fitness|Pacific Asia|   Bikaner|        India|        1/13/2018 12:06|        18.03000069|                  327.75|           -0.800000012|                  1|327.75|       309.7200012|          -247.7799988|    South Asia|      RajastÃ¡n|         CLOSED|Smart watch |Standard Class|GillianMaldonado|\n",
            "|   DEBIT|                       3|                            4|      22.86000061| 304.8099976000001| Advance shipping|                 0|Sporting Goods|  Los Angeles|         EE. UU.|     Home Office|            CA|        Fitness|Pacific Asia|Townsville|    Australia|        1/13/2018 11:45|        22.94000053|                  327.75|            0.079999998|                  1|327.75| 304.8099976000001|           22.86000061|       Oceania|     Queensland|       COMPLETE|Smart watch |Standard Class|        TanaTate|\n",
            "| PAYMENT|                       2|                            4|      134.2100067|            298.25| Advance shipping|                 0|Sporting Goods|       Caguas|     Puerto Rico|       Corporate|            PR|        Fitness|Pacific Asia|Townsville|    Australia|        1/13/2018 11:24|               29.5|                  327.75|            0.449999988|                  1|327.75|            298.25|           134.2100067|       Oceania|     Queensland|PENDING_PAYMENT|Smart watch |Standard Class|   OrliHendricks|\n",
            "|TRANSFER|                       6|                            4|      18.57999992|        294.980011|Shipping canceled|                 0|Sporting Goods|    Tonawanda|         EE. UU.|        Consumer|            NY|        Fitness|Pacific Asia| Toowoomba|    Australia|        1/13/2018 11:03|        32.77999878|                  327.75|    0.05999999900000001|                  1|327.75|        294.980011|           18.57999992|       Oceania|     Queensland|       CANCELED|Smart watch |Standard Class| KimberlyFlowers|\n",
            "|   DEBIT|                       2|                            1|      95.18000031|       288.4200134|    Late delivery|                 1|Sporting Goods|       Caguas|     Puerto Rico|     Home Office|            PR|        Fitness|Pacific Asia| Guangzhou|        China|        1/13/2018 10:42|        39.33000183|                  327.75|            0.330000013|                  1|327.75|       288.4200134|           95.18000031|  Eastern Asia|      Guangdong|       COMPLETE|Smart watch |   First Class|ConstanceTerrell|\n",
            "|TRANSFER|                       2|                            1|      68.43000031| 285.1400146000001|    Late delivery|                 1|Sporting Goods|        Miami|         EE. UU.|       Corporate|            FL|        Fitness|Pacific Asia| Guangzhou|        China|        1/13/2018 10:21|        42.61000061|                  327.75|            0.239999995|                  1|327.75| 285.1400146000001|           68.43000031|  Eastern Asia|      Guangdong|     PROCESSING|Smart watch |   First Class|    EricaStevens|\n",
            "|    CASH|                       3|                            2|      133.7200012|       278.5899963|    Late delivery|                 1|Sporting Goods|       Caguas|     Puerto Rico|       Corporate|            PR|        Fitness|Pacific Asia| Guangzhou|        China|        1/13/2018 10:00|        49.15999985|                  327.75|            0.479999989|                  1|327.75|       278.5899963|           133.7200012|  Eastern Asia|      Guangdong|         CLOSED|Smart watch |  Second Class|    NicholeOlsen|\n",
            "|    CASH|                       2|                            1|      132.1499939|275.30999760000003|    Late delivery|                 1|Sporting Goods|    San Ramon|         EE. UU.|       Corporate|            CA|        Fitness|Pacific Asia| Guangzhou|        China|         1/13/2018 9:39|        52.43999863|                  327.75|            0.479999989|                  1|327.75|275.30999760000003|           132.1499939|  Eastern Asia|      Guangdong|         CLOSED|Smart watch |   First Class|   OprahDelacruz|\n",
            "+--------+------------------------+-----------------------------+-----------------+------------------+-----------------+------------------+--------------+-------------+----------------+----------------+--------------+---------------+------------+----------+-------------+-----------------------+-------------------+------------------------+-----------------------+-------------------+------+------------------+----------------------+--------------+---------------+---------------+------------+--------------+----------------+\n",
            "only showing top 10 rows\n",
            "\n"
          ],
          "name": "stdout"
        }
      ]
    },
    {
      "cell_type": "code",
      "metadata": {
        "colab": {
          "base_uri": "https://localhost:8080/"
        },
        "id": "97TWReL02zJb",
        "outputId": "27c1c859-7d25-4ae0-d1d2-330ed19b6ed8"
      },
      "source": [
        "ship_df.dtypes"
      ],
      "execution_count": null,
      "outputs": [
        {
          "output_type": "execute_result",
          "data": {
            "text/plain": [
              "[('Type', 'string'),\n",
              " ('Days for shipping (real)', 'bigint'),\n",
              " ('Days for shipment (scheduled)', 'bigint'),\n",
              " ('Benefit per order', 'double'),\n",
              " ('Sales per customer', 'double'),\n",
              " ('Delivery Status', 'string'),\n",
              " ('Late_delivery_risk', 'bigint'),\n",
              " ('Category Name', 'string'),\n",
              " ('Customer City', 'string'),\n",
              " ('Customer Country', 'string'),\n",
              " ('Customer Segment', 'string'),\n",
              " ('Customer State', 'string'),\n",
              " ('Department Name', 'string'),\n",
              " ('Market', 'string'),\n",
              " ('Order City', 'string'),\n",
              " ('Order Country', 'string'),\n",
              " ('order date (DateOrders)', 'string'),\n",
              " ('Order Item Discount', 'double'),\n",
              " ('Order Item Product Price', 'double'),\n",
              " ('Order Item Profit Ratio', 'double'),\n",
              " ('Order Item Quantity', 'bigint'),\n",
              " ('Sales', 'double'),\n",
              " ('Order Item Total', 'double'),\n",
              " ('Order Profit Per Order', 'double'),\n",
              " ('Order Region', 'string'),\n",
              " ('Order State', 'string'),\n",
              " ('Order Status', 'string'),\n",
              " ('Product Name', 'string'),\n",
              " ('Shipping Mode', 'string'),\n",
              " ('Customer Name', 'string')]"
            ]
          },
          "metadata": {
            "tags": []
          },
          "execution_count": 106
        }
      ]
    },
    {
      "cell_type": "markdown",
      "metadata": {
        "id": "_wbh2nIAlPKR"
      },
      "source": [
        "**Changing Datatypes**"
      ]
    },
    {
      "cell_type": "code",
      "metadata": {
        "colab": {
          "base_uri": "https://localhost:8080/"
        },
        "id": "r9ctYrLwWpEN",
        "outputId": "835bad72-e476-427d-ea6d-324a513d8ad6"
      },
      "source": [
        "#string column labels to double\n",
        "indexers = [StringIndexer(inputCol=\"Delivery Status\", outputCol = \"Status\"), \n",
        "           StringIndexer(inputCol=\"Type\", outputCol = \"type\"), \n",
        "           StringIndexer(inputCol=\"Category Name\", outputCol = \"Category_Name\"), \n",
        "           StringIndexer(inputCol=\"Customer Segment\", outputCol = \"Customer_Segment\"), \n",
        "           StringIndexer(inputCol=\"Department Name\", outputCol = \"Department_Name\"),\n",
        "           StringIndexer(inputCol=\"Late_delivery_risk\", outputCol = \"Risk\",stringOrderType='frequencyAsc'),\n",
        "           StringIndexer(inputCol=\"Order Region\", outputCol = \"region\"),\n",
        "           StringIndexer(inputCol=\"Market\", outputCol = \"market\")]\n",
        "\n",
        "pipeline = Pipeline(stages=indexers)\n",
        "indexed_ship_df = pipeline.fit(ship_df).transform(ship_df)     #Fits a model to the input dataset.\n",
        "\n",
        "indexed_ship_df.show(10,False)  #We have given False for turn off default truncation"
      ],
      "execution_count": null,
      "outputs": [
        {
          "output_type": "stream",
          "text": [
            "+----+------------------------+-----------------------------+-----------------+------------------+-----------------+------------------+--------------+-------------+----------------+----------------+--------------+---------------+------+----------+-------------+-----------------------+-------------------+------------------------+-----------------------+-------------------+------+------------------+----------------------+--------------+---------------+---------------+------------+--------------+----------------+------+-------------+----------------+---------------+----+------+\n",
            "|type|Days for shipping (real)|Days for shipment (scheduled)|Benefit per order|Sales per customer|Delivery Status  |Late_delivery_risk|Category Name |Customer City|Customer Country|Customer Segment|Customer State|Department Name|market|Order City|Order Country|order date (DateOrders)|Order Item Discount|Order Item Product Price|Order Item Profit Ratio|Order Item Quantity|Sales |Order Item Total  |Order Profit Per Order|Order Region  |Order State    |Order Status   |Product Name|Shipping Mode |Customer Name   |Status|Category_Name|Customer_Segment|Department_Name|Risk|region|\n",
            "+----+------------------------+-----------------------------+-----------------+------------------+-----------------+------------------+--------------+-------------+----------------+----------------+--------------+---------------+------+----------+-------------+-----------------------+-------------------+------------------------+-----------------------+-------------------+------+------------------+----------------------+--------------+---------------+---------------+------------+--------------+----------------+------+-------------+----------------+---------------+----+------+\n",
            "|0.0 |3                       |4                            |91.25            |314.6400146000001 |Advance shipping |0                 |Sporting Goods|Caguas       |Puerto Rico     |Consumer        |PR            |Fitness        |2.0   |Bekasi    |Indonesia    |1/31/2018 22:56        |13.10999966        |327.75                  |0.289999992            |1                  |327.75|314.6400146000001 |91.25                 |Southeast Asia|Java Occidental|COMPLETE       |Smart watch |Standard Class|CallyHolloway   |1.0   |36.0         |0.0             |5.0            |0.0 |5.0   |\n",
            "|1.0 |5                       |4                            |-249.0899963     |311.3599854       |Late delivery    |1                 |Sporting Goods|Caguas       |Puerto Rico     |Consumer        |PR            |Fitness        |2.0   |Bikaner   |India        |1/13/2018 12:27        |16.38999939        |327.75                  |-0.800000012           |1                  |327.75|311.3599854       |-249.0899963          |South Asia    |RajastÃ¡n      |PENDING        |Smart watch |Standard Class|IreneLuna       |0.0   |36.0         |0.0             |5.0            |1.0 |9.0   |\n",
            "|3.0 |4                       |4                            |-247.7799988     |309.7200012       |Shipping on time |0                 |Sporting Goods|San Jose     |EE. UU.         |Consumer        |CA            |Fitness        |2.0   |Bikaner   |India        |1/13/2018 12:06        |18.03000069        |327.75                  |-0.800000012           |1                  |327.75|309.7200012       |-247.7799988          |South Asia    |RajastÃ¡n      |CLOSED         |Smart watch |Standard Class|GillianMaldonado|2.0   |36.0         |0.0             |5.0            |0.0 |9.0   |\n",
            "|0.0 |3                       |4                            |22.86000061      |304.8099976000001 |Advance shipping |0                 |Sporting Goods|Los Angeles  |EE. UU.         |Home Office     |CA            |Fitness        |2.0   |Townsville|Australia    |1/13/2018 11:45        |22.94000053        |327.75                  |0.079999998            |1                  |327.75|304.8099976000001 |22.86000061           |Oceania       |Queensland     |COMPLETE       |Smart watch |Standard Class|TanaTate        |1.0   |36.0         |2.0             |5.0            |0.0 |3.0   |\n",
            "|2.0 |2                       |4                            |134.2100067      |298.25            |Advance shipping |0                 |Sporting Goods|Caguas       |Puerto Rico     |Corporate       |PR            |Fitness        |2.0   |Townsville|Australia    |1/13/2018 11:24        |29.5               |327.75                  |0.449999988            |1                  |327.75|298.25            |134.2100067           |Oceania       |Queensland     |PENDING_PAYMENT|Smart watch |Standard Class|OrliHendricks   |1.0   |36.0         |1.0             |5.0            |0.0 |3.0   |\n",
            "|1.0 |6                       |4                            |18.57999992      |294.980011        |Shipping canceled|0                 |Sporting Goods|Tonawanda    |EE. UU.         |Consumer        |NY            |Fitness        |2.0   |Toowoomba |Australia    |1/13/2018 11:03        |32.77999878        |327.75                  |0.05999999900000001    |1                  |327.75|294.980011        |18.57999992           |Oceania       |Queensland     |CANCELED       |Smart watch |Standard Class|KimberlyFlowers |3.0   |36.0         |0.0             |5.0            |0.0 |3.0   |\n",
            "|0.0 |2                       |1                            |95.18000031      |288.4200134       |Late delivery    |1                 |Sporting Goods|Caguas       |Puerto Rico     |Home Office     |PR            |Fitness        |2.0   |Guangzhou |China        |1/13/2018 10:42        |39.33000183        |327.75                  |0.330000013            |1                  |327.75|288.4200134       |95.18000031           |Eastern Asia  |Guangdong      |COMPLETE       |Smart watch |First Class   |ConstanceTerrell|0.0   |36.0         |2.0             |5.0            |1.0 |10.0  |\n",
            "|1.0 |2                       |1                            |68.43000031      |285.1400146000001 |Late delivery    |1                 |Sporting Goods|Miami        |EE. UU.         |Corporate       |FL            |Fitness        |2.0   |Guangzhou |China        |1/13/2018 10:21        |42.61000061        |327.75                  |0.239999995            |1                  |327.75|285.1400146000001 |68.43000031           |Eastern Asia  |Guangdong      |PROCESSING     |Smart watch |First Class   |EricaStevens    |0.0   |36.0         |1.0             |5.0            |1.0 |10.0  |\n",
            "|3.0 |3                       |2                            |133.7200012      |278.5899963       |Late delivery    |1                 |Sporting Goods|Caguas       |Puerto Rico     |Corporate       |PR            |Fitness        |2.0   |Guangzhou |China        |1/13/2018 10:00        |49.15999985        |327.75                  |0.479999989            |1                  |327.75|278.5899963       |133.7200012           |Eastern Asia  |Guangdong      |CLOSED         |Smart watch |Second Class  |NicholeOlsen    |0.0   |36.0         |1.0             |5.0            |1.0 |10.0  |\n",
            "|3.0 |2                       |1                            |132.1499939      |275.30999760000003|Late delivery    |1                 |Sporting Goods|San Ramon    |EE. UU.         |Corporate       |CA            |Fitness        |2.0   |Guangzhou |China        |1/13/2018 9:39         |52.43999863        |327.75                  |0.479999989            |1                  |327.75|275.30999760000003|132.1499939           |Eastern Asia  |Guangdong      |CLOSED         |Smart watch |First Class   |OprahDelacruz   |0.0   |36.0         |1.0             |5.0            |1.0 |10.0  |\n",
            "+----+------------------------+-----------------------------+-----------------+------------------+-----------------+------------------+--------------+-------------+----------------+----------------+--------------+---------------+------+----------+-------------+-----------------------+-------------------+------------------------+-----------------------+-------------------+------+------------------+----------------------+--------------+---------------+---------------+------------+--------------+----------------+------+-------------+----------------+---------------+----+------+\n",
            "only showing top 10 rows\n",
            "\n"
          ],
          "name": "stdout"
        }
      ]
    },
    {
      "cell_type": "markdown",
      "metadata": {
        "id": "YUV690EJlbGQ"
      },
      "source": [
        "**Create feature column**"
      ]
    },
    {
      "cell_type": "code",
      "metadata": {
        "colab": {
          "base_uri": "https://localhost:8080/"
        },
        "id": "CLNljO5SWeYR",
        "outputId": "b36b50df-cef3-4bc5-e6e7-1f188b46439a"
      },
      "source": [
        "#only real shipment do not put Risk\n",
        "vectorAssembler = VectorAssembler(inputCols = ['type','Days for shipping (real)','region',\n",
        "                                               'Customer_Segment','Department_Name'],outputCol = \"features\")\n",
        "vindexed_ship_df = vectorAssembler.transform(indexed_ship_df)\n",
        "vindexed_ship_df.show(5, False)"
      ],
      "execution_count": null,
      "outputs": [
        {
          "output_type": "stream",
          "text": [
            "+----+------------------------+-----------------------------+-----------------+------------------+----------------+------------------+--------------+-------------+----------------+----------------+--------------+---------------+------+----------+-------------+-----------------------+-------------------+------------------------+-----------------------+-------------------+------+-----------------+----------------------+--------------+---------------+---------------+------------+--------------+----------------+------+-------------+----------------+---------------+----+------+---------------------+\n",
            "|type|Days for shipping (real)|Days for shipment (scheduled)|Benefit per order|Sales per customer|Delivery Status |Late_delivery_risk|Category Name |Customer City|Customer Country|Customer Segment|Customer State|Department Name|market|Order City|Order Country|order date (DateOrders)|Order Item Discount|Order Item Product Price|Order Item Profit Ratio|Order Item Quantity|Sales |Order Item Total |Order Profit Per Order|Order Region  |Order State    |Order Status   |Product Name|Shipping Mode |Customer Name   |Status|Category_Name|Customer_Segment|Department_Name|Risk|region|features             |\n",
            "+----+------------------------+-----------------------------+-----------------+------------------+----------------+------------------+--------------+-------------+----------------+----------------+--------------+---------------+------+----------+-------------+-----------------------+-------------------+------------------------+-----------------------+-------------------+------+-----------------+----------------------+--------------+---------------+---------------+------------+--------------+----------------+------+-------------+----------------+---------------+----+------+---------------------+\n",
            "|0.0 |3                       |4                            |91.25            |314.6400146000001 |Advance shipping|0                 |Sporting Goods|Caguas       |Puerto Rico     |Consumer        |PR            |Fitness        |2.0   |Bekasi    |Indonesia    |1/31/2018 22:56        |13.10999966        |327.75                  |0.289999992            |1                  |327.75|314.6400146000001|91.25                 |Southeast Asia|Java Occidental|COMPLETE       |Smart watch |Standard Class|CallyHolloway   |1.0   |36.0         |0.0             |5.0            |0.0 |5.0   |[0.0,3.0,5.0,0.0,5.0]|\n",
            "|1.0 |5                       |4                            |-249.0899963     |311.3599854       |Late delivery   |1                 |Sporting Goods|Caguas       |Puerto Rico     |Consumer        |PR            |Fitness        |2.0   |Bikaner   |India        |1/13/2018 12:27        |16.38999939        |327.75                  |-0.800000012           |1                  |327.75|311.3599854      |-249.0899963          |South Asia    |RajastÃ¡n      |PENDING        |Smart watch |Standard Class|IreneLuna       |0.0   |36.0         |0.0             |5.0            |1.0 |9.0   |[1.0,5.0,9.0,0.0,5.0]|\n",
            "|3.0 |4                       |4                            |-247.7799988     |309.7200012       |Shipping on time|0                 |Sporting Goods|San Jose     |EE. UU.         |Consumer        |CA            |Fitness        |2.0   |Bikaner   |India        |1/13/2018 12:06        |18.03000069        |327.75                  |-0.800000012           |1                  |327.75|309.7200012      |-247.7799988          |South Asia    |RajastÃ¡n      |CLOSED         |Smart watch |Standard Class|GillianMaldonado|2.0   |36.0         |0.0             |5.0            |0.0 |9.0   |[3.0,4.0,9.0,0.0,5.0]|\n",
            "|0.0 |3                       |4                            |22.86000061      |304.8099976000001 |Advance shipping|0                 |Sporting Goods|Los Angeles  |EE. UU.         |Home Office     |CA            |Fitness        |2.0   |Townsville|Australia    |1/13/2018 11:45        |22.94000053        |327.75                  |0.079999998            |1                  |327.75|304.8099976000001|22.86000061           |Oceania       |Queensland     |COMPLETE       |Smart watch |Standard Class|TanaTate        |1.0   |36.0         |2.0             |5.0            |0.0 |3.0   |[0.0,3.0,3.0,2.0,5.0]|\n",
            "|2.0 |2                       |4                            |134.2100067      |298.25            |Advance shipping|0                 |Sporting Goods|Caguas       |Puerto Rico     |Corporate       |PR            |Fitness        |2.0   |Townsville|Australia    |1/13/2018 11:24        |29.5               |327.75                  |0.449999988            |1                  |327.75|298.25           |134.2100067           |Oceania       |Queensland     |PENDING_PAYMENT|Smart watch |Standard Class|OrliHendricks   |1.0   |36.0         |1.0             |5.0            |0.0 |3.0   |[2.0,2.0,3.0,1.0,5.0]|\n",
            "+----+------------------------+-----------------------------+-----------------+------------------+----------------+------------------+--------------+-------------+----------------+----------------+--------------+---------------+------+----------+-------------+-----------------------+-------------------+------------------------+-----------------------+-------------------+------+-----------------+----------------------+--------------+---------------+---------------+------------+--------------+----------------+------+-------------+----------------+---------------+----+------+---------------------+\n",
            "only showing top 5 rows\n",
            "\n"
          ],
          "name": "stdout"
        }
      ]
    },
    {
      "cell_type": "code",
      "metadata": {
        "colab": {
          "base_uri": "https://localhost:8080/"
        },
        "id": "ncArq5xafVeD",
        "outputId": "2352e5f5-0278-4139-d68b-20d947a29151"
      },
      "source": [
        "#do not drop risk\n",
        "vindexed_ship_df=vindexed_ship_df.drop('type','Days for shipping (real)','Days for shipment (scheduled)','Sales per customer','Benefit per order','Status',\n",
        "                                            'ship_mode','Customer Segment','Customer City','Delivery Status','Category Name','Category_Name','Customer_Segment','Department_Name','market')\n",
        "\n",
        "vindexed_ship_df.show(5, False)"
      ],
      "execution_count": null,
      "outputs": [
        {
          "output_type": "stream",
          "text": [
            "+------------------+----------------+--------------+---------------+----------+-------------+-----------------------+-------------------+------------------------+-----------------------+-------------------+------+-----------------+----------------------+--------------+---------------+---------------+------------+--------------+----------------+----+------+---------------------+\n",
            "|Late_delivery_risk|Customer Country|Customer State|Department Name|Order City|Order Country|order date (DateOrders)|Order Item Discount|Order Item Product Price|Order Item Profit Ratio|Order Item Quantity|Sales |Order Item Total |Order Profit Per Order|Order Region  |Order State    |Order Status   |Product Name|Shipping Mode |Customer Name   |Risk|region|features             |\n",
            "+------------------+----------------+--------------+---------------+----------+-------------+-----------------------+-------------------+------------------------+-----------------------+-------------------+------+-----------------+----------------------+--------------+---------------+---------------+------------+--------------+----------------+----+------+---------------------+\n",
            "|0                 |Puerto Rico     |PR            |Fitness        |Bekasi    |Indonesia    |1/31/2018 22:56        |13.10999966        |327.75                  |0.289999992            |1                  |327.75|314.6400146000001|91.25                 |Southeast Asia|Java Occidental|COMPLETE       |Smart watch |Standard Class|CallyHolloway   |0.0 |5.0   |[0.0,3.0,5.0,0.0,5.0]|\n",
            "|1                 |Puerto Rico     |PR            |Fitness        |Bikaner   |India        |1/13/2018 12:27        |16.38999939        |327.75                  |-0.800000012           |1                  |327.75|311.3599854      |-249.0899963          |South Asia    |RajastÃ¡n      |PENDING        |Smart watch |Standard Class|IreneLuna       |1.0 |9.0   |[1.0,5.0,9.0,0.0,5.0]|\n",
            "|0                 |EE. UU.         |CA            |Fitness        |Bikaner   |India        |1/13/2018 12:06        |18.03000069        |327.75                  |-0.800000012           |1                  |327.75|309.7200012      |-247.7799988          |South Asia    |RajastÃ¡n      |CLOSED         |Smart watch |Standard Class|GillianMaldonado|0.0 |9.0   |[3.0,4.0,9.0,0.0,5.0]|\n",
            "|0                 |EE. UU.         |CA            |Fitness        |Townsville|Australia    |1/13/2018 11:45        |22.94000053        |327.75                  |0.079999998            |1                  |327.75|304.8099976000001|22.86000061           |Oceania       |Queensland     |COMPLETE       |Smart watch |Standard Class|TanaTate        |0.0 |3.0   |[0.0,3.0,3.0,2.0,5.0]|\n",
            "|0                 |Puerto Rico     |PR            |Fitness        |Townsville|Australia    |1/13/2018 11:24        |29.5               |327.75                  |0.449999988            |1                  |327.75|298.25           |134.2100067           |Oceania       |Queensland     |PENDING_PAYMENT|Smart watch |Standard Class|OrliHendricks   |0.0 |3.0   |[2.0,2.0,3.0,1.0,5.0]|\n",
            "+------------------+----------------+--------------+---------------+----------+-------------+-----------------------+-------------------+------------------------+-----------------------+-------------------+------+-----------------+----------------------+--------------+---------------+---------------+------------+--------------+----------------+----+------+---------------------+\n",
            "only showing top 5 rows\n",
            "\n"
          ],
          "name": "stdout"
        }
      ]
    },
    {
      "cell_type": "code",
      "metadata": {
        "colab": {
          "base_uri": "https://localhost:8080/"
        },
        "id": "h36AnYdOnlaP",
        "outputId": "ddea1d6f-203e-4938-d57e-4e6a88347b03"
      },
      "source": [
        "#do not drop risk\n",
        "ml_dataset=vindexed_ship_df.drop('Customer Country','Customer State','Department Name','Order City','region',\n",
        "                                       'Order Country','order date (DateOrders)','Order Item Discount','Late_delivery_risk',\n",
        "                                       'Order Item Product Price','Order Item Profit Ratio','Order Item Quantity',\n",
        "                                       'Sales','Order Item Total','Order Profit Per Order','Order Region',\n",
        "                                       'Order State','Order Status','Product Name','Shipping Mode','Customer Name')\n",
        "\n",
        "ml_dataset.show(10,False)"
      ],
      "execution_count": null,
      "outputs": [
        {
          "output_type": "stream",
          "text": [
            "+----+----------------------+\n",
            "|Risk|features              |\n",
            "+----+----------------------+\n",
            "|0.0 |[0.0,3.0,5.0,0.0,5.0] |\n",
            "|1.0 |[1.0,5.0,9.0,0.0,5.0] |\n",
            "|0.0 |[3.0,4.0,9.0,0.0,5.0] |\n",
            "|0.0 |[0.0,3.0,3.0,2.0,5.0] |\n",
            "|0.0 |[2.0,2.0,3.0,1.0,5.0] |\n",
            "|0.0 |[1.0,6.0,3.0,0.0,5.0] |\n",
            "|1.0 |[0.0,2.0,10.0,2.0,5.0]|\n",
            "|1.0 |[1.0,2.0,10.0,1.0,5.0]|\n",
            "|1.0 |[3.0,3.0,10.0,1.0,5.0]|\n",
            "|1.0 |[3.0,2.0,10.0,1.0,5.0]|\n",
            "+----+----------------------+\n",
            "only showing top 10 rows\n",
            "\n"
          ],
          "name": "stdout"
        }
      ]
    },
    {
      "cell_type": "markdown",
      "metadata": {
        "id": "klaCJvtVljlc"
      },
      "source": [
        "**Classification Model**"
      ]
    },
    {
      "cell_type": "code",
      "metadata": {
        "id": "A6MofaJYeU0l"
      },
      "source": [
        "#index the label for class column but run only once\n",
        "#lable_indexer = StringIndexer(inputCol='Days for shipping (real)', outputCol='day',stringOrderType=\"alphabetAsc\") #assigns number to label\n",
        "#ml_dataset = lable_indexer.fit(ml_dataset).transform(ml_dataset)\n",
        "#ml_dataset.show(10,False)"
      ],
      "execution_count": null,
      "outputs": []
    },
    {
      "cell_type": "code",
      "metadata": {
        "colab": {
          "base_uri": "https://localhost:8080/"
        },
        "id": "wL9PQMYNpO24",
        "outputId": "6c83e7b4-59cb-47ce-c4e2-b062d6121a13"
      },
      "source": [
        "#Split the data into training and test sets (20% held out for testing)\n",
        "\n",
        "(trainingData, testData) = ml_dataset.randomSplit([0.8, 0.2],42)\n",
        "\n",
        "# Train a DecisionTree model.\n",
        "dt = DecisionTreeClassifier(labelCol=\"Risk\", featuresCol=\"features\",impurity='gini')\n",
        "\n",
        "# Chain indexers and tree in a Pipeline\n",
        "pipeline = Pipeline(stages=[ml_dataset, dt])\n",
        "\n",
        "# Train model.  This also runs the indexers.\n",
        "model = dt.fit(trainingData)\n",
        "\n",
        "# Make predictions.\n",
        "prediction = model.transform(testData)\n",
        "\n",
        "# Select example rows to display.\n",
        "prediction.show(10,False)\n",
        "#df.printSchema()"
      ],
      "execution_count": null,
      "outputs": [
        {
          "output_type": "stream",
          "text": [
            "+----+-------------+-------------+-----------+----------+\n",
            "|Risk|features     |rawPrediction|probability|prediction|\n",
            "+----+-------------+-------------+-----------+----------+\n",
            "|0.0 |(5,[],[])    |[4064.0,0.0] |[1.0,0.0]  |0.0       |\n",
            "|0.0 |(5,[],[])    |[4064.0,0.0] |[1.0,0.0]  |0.0       |\n",
            "|0.0 |(5,[],[])    |[4064.0,0.0] |[1.0,0.0]  |0.0       |\n",
            "|0.0 |(5,[],[])    |[4064.0,0.0] |[1.0,0.0]  |0.0       |\n",
            "|0.0 |(5,[],[])    |[4064.0,0.0] |[1.0,0.0]  |0.0       |\n",
            "|0.0 |(5,[],[])    |[4064.0,0.0] |[1.0,0.0]  |0.0       |\n",
            "|0.0 |(5,[],[])    |[4064.0,0.0] |[1.0,0.0]  |0.0       |\n",
            "|0.0 |(5,[],[])    |[4064.0,0.0] |[1.0,0.0]  |0.0       |\n",
            "|0.0 |(5,[0],[1.0])|[4064.0,0.0] |[1.0,0.0]  |0.0       |\n",
            "|0.0 |(5,[0],[1.0])|[4064.0,0.0] |[1.0,0.0]  |0.0       |\n",
            "+----+-------------+-------------+-----------+----------+\n",
            "only showing top 10 rows\n",
            "\n"
          ],
          "name": "stdout"
        }
      ]
    },
    {
      "cell_type": "markdown",
      "metadata": {
        "id": "zgdW8j85lpsw"
      },
      "source": [
        "**Model Evaluation**"
      ]
    },
    {
      "cell_type": "code",
      "metadata": {
        "colab": {
          "base_uri": "https://localhost:8080/"
        },
        "id": "r-KYksEBpPAy",
        "outputId": "479240bf-6761-4514-de89-2d5365972e4d"
      },
      "source": [
        "# Select (prediction, true label) and compute test error\n",
        "evaluator = MulticlassClassificationEvaluator(labelCol=\"Risk\", predictionCol=\"prediction\", metricName=\"accuracy\")\n",
        "accuracy = evaluator.evaluate(prediction)\n",
        "#print(\"Accuracy : \" , accuracy)\n",
        "print(\"Test Error = %g \" % (1.0 - accuracy))"
      ],
      "execution_count": null,
      "outputs": [
        {
          "output_type": "stream",
          "text": [
            "Test Error = 0.24091 \n"
          ],
          "name": "stdout"
        }
      ]
    },
    {
      "cell_type": "code",
      "metadata": {
        "colab": {
          "base_uri": "https://localhost:8080/"
        },
        "id": "5eQt2U8Br11p",
        "outputId": "eb68cfab-6f60-4080-d51e-4eaec7b249b7"
      },
      "source": [
        "print('Learned classification tree model:')\n",
        "print(model.toDebugString)"
      ],
      "execution_count": null,
      "outputs": [
        {
          "output_type": "stream",
          "text": [
            "Learned classification tree model:\n",
            "DecisionTreeClassificationModel: uid=DecisionTreeClassifier_e1a86be5445d, depth=4, numNodes=9, numClasses=2, numFeatures=5\n",
            "  If (feature 1 <= 4.5)\n",
            "   If (feature 1 <= 2.5)\n",
            "    If (feature 1 <= 0.5)\n",
            "     Predict: 0.0\n",
            "    Else (feature 1 > 0.5)\n",
            "     If (feature 1 <= 1.5)\n",
            "      Predict: 1.0\n",
            "     Else (feature 1 > 1.5)\n",
            "      Predict: 0.0\n",
            "   Else (feature 1 > 2.5)\n",
            "    Predict: 0.0\n",
            "  Else (feature 1 > 4.5)\n",
            "   Predict: 1.0\n",
            "\n"
          ],
          "name": "stdout"
        }
      ]
    }
  ]
}